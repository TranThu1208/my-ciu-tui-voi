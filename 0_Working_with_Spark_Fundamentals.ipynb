{
  "cells": [
    {
      "cell_type": "markdown",
      "metadata": {
        "id": "view-in-github",
        "colab_type": "text"
      },
      "source": [
        "<a href=\"https://colab.research.google.com/github/TranThu1208/my-ciu-tui-voi/blob/master/0_Working_with_Spark_Fundamentals.ipynb\" target=\"_parent\"><img src=\"https://colab.research.google.com/assets/colab-badge.svg\" alt=\"Open In Colab\"/></a>"
      ]
    },
    {
      "cell_type": "raw",
      "id": "c32dcdba",
      "metadata": {
        "id": "c32dcdba"
      },
      "source": [
        "Lecturer: Nguyen Thon Da Ph.D\n",
        "Course: Big Data\n",
        "Content: 0. Working with Spark - Fundamentals"
      ]
    },
    {
      "cell_type": "code",
      "execution_count": 1,
      "id": "0b1cf0a4",
      "metadata": {
        "id": "0b1cf0a4",
        "outputId": "711784fb-635c-406c-ae8e-7e412676edcf",
        "colab": {
          "base_uri": "https://localhost:8080/"
        }
      },
      "outputs": [
        {
          "output_type": "stream",
          "name": "stdout",
          "text": [
            "Collecting pyspark\n",
            "  Downloading pyspark-3.5.3.tar.gz (317.3 MB)\n",
            "\u001b[2K     \u001b[90m━━━━━━━━━━━━━━━━━━━━━━━━━━━━━━━━━━━━━━━━\u001b[0m \u001b[32m317.3/317.3 MB\u001b[0m \u001b[31m4.9 MB/s\u001b[0m eta \u001b[36m0:00:00\u001b[0m\n",
            "\u001b[?25h  Preparing metadata (setup.py) ... \u001b[?25l\u001b[?25hdone\n",
            "Requirement already satisfied: py4j==0.10.9.7 in /usr/local/lib/python3.10/dist-packages (from pyspark) (0.10.9.7)\n",
            "Building wheels for collected packages: pyspark\n",
            "  Building wheel for pyspark (setup.py) ... \u001b[?25l\u001b[?25hdone\n",
            "  Created wheel for pyspark: filename=pyspark-3.5.3-py2.py3-none-any.whl size=317840625 sha256=a61e27621627318a2d75c52c5f7689667b303667c3d8d376c54e2aa9d30d4bc6\n",
            "  Stored in directory: /root/.cache/pip/wheels/1b/3a/92/28b93e2fbfdbb07509ca4d6f50c5e407f48dce4ddbda69a4ab\n",
            "Successfully built pyspark\n",
            "Installing collected packages: pyspark\n",
            "Successfully installed pyspark-3.5.3\n"
          ]
        }
      ],
      "source": [
        "!pip install --upgrade pyspark\n"
      ]
    },
    {
      "cell_type": "code",
      "execution_count": 2,
      "id": "a2353dd5",
      "metadata": {
        "id": "a2353dd5",
        "outputId": "55e38211-20f9-46ee-93d7-874b0ff2c056",
        "colab": {
          "base_uri": "https://localhost:8080/"
        }
      },
      "outputs": [
        {
          "output_type": "stream",
          "name": "stdout",
          "text": [
            "Requirement already satisfied: pyspark in /usr/local/lib/python3.10/dist-packages (3.5.3)\n",
            "Requirement already satisfied: py4j==0.10.9.7 in /usr/local/lib/python3.10/dist-packages (from pyspark) (0.10.9.7)\n"
          ]
        }
      ],
      "source": [
        "!pip install pyspark"
      ]
    },
    {
      "cell_type": "markdown",
      "id": "4dee4b91",
      "metadata": {
        "id": "4dee4b91"
      },
      "source": [
        "# Reading Data from a File"
      ]
    },
    {
      "cell_type": "markdown",
      "id": "832bad67",
      "metadata": {
        "id": "832bad67"
      },
      "source": [
        "# Subset Columns and View a Glimpse of the Data"
      ]
    },
    {
      "cell_type": "code",
      "execution_count": 6,
      "id": "d3ea6998",
      "metadata": {
        "scrolled": false,
        "id": "d3ea6998",
        "outputId": "0f3fc68d-31f9-438d-b233-59b7d2bbab7a",
        "colab": {
          "base_uri": "https://localhost:8080/"
        }
      },
      "outputs": [
        {
          "output_type": "stream",
          "name": "stdout",
          "text": [
            "root\n",
            " |-- Date: string (nullable = true)\n",
            " |-- Open: string (nullable = true)\n",
            " |-- High: string (nullable = true)\n",
            " |-- Low: string (nullable = true)\n",
            " |-- Close: string (nullable = true)\n",
            " |-- Volume: string (nullable = true)\n",
            " |-- Adjusted: string (nullable = true)\n",
            " |-- dn: string (nullable = true)\n",
            " |-- mavg: string (nullable = true)\n",
            " |-- up: string (nullable = true)\n",
            " |-- direction: string (nullable = true)\n",
            " |-- Headlines: string (nullable = true)\n",
            "\n",
            "[('Date', 'string'), ('Open', 'string'), ('High', 'string'), ('Low', 'string'), ('Close', 'string'), ('Volume', 'string'), ('Adjusted', 'string'), ('dn', 'string'), ('mavg', 'string'), ('up', 'string'), ('direction', 'string'), ('Headlines', 'string')]\n",
            "The total number of records in the finance-charts-apple dataset is 506\n"
          ]
        }
      ],
      "source": [
        "from pyspark.sql import SparkSession\n",
        "\n",
        "# Create a SparkSession\n",
        "spark = SparkSession.builder.appName(\"PySpark Basics\").getOrCreate()\n",
        "\n",
        "# Define file location and options\n",
        "file_location = \"finance-charts-apple1.csv\"\n",
        "file_type = \"csv\"\n",
        "infer_schema = \"False\"\n",
        "first_row_is_header = \"True\"\n",
        "\n",
        "# Read the CSV file into a DataFrame\n",
        "df = spark.read.format(file_type) \\\n",
        "    .option(\"inferSchema\", infer_schema) \\\n",
        "    .option(\"header\", first_row_is_header) \\\n",
        "    .load(file_location)\n",
        "\n",
        "# Print the schema of the DataFrame\n",
        "df.printSchema()\n",
        "\n",
        "# Print the data types of columns\n",
        "print(df.dtypes)\n",
        "\n",
        "# Count the number of records in the DataFrame\n",
        "record_count = df.count()\n",
        "\n",
        "# Print the total number of records\n",
        "print('The total number of records in the finance-charts-apple dataset is ' + str(record_count))\n"
      ]
    },
    {
      "cell_type": "code",
      "execution_count": 7,
      "id": "9497981d",
      "metadata": {
        "id": "9497981d",
        "outputId": "d8651e4e-5db8-4157-c5ff-14ecda21f6dd",
        "colab": {
          "base_uri": "https://localhost:8080/"
        }
      },
      "outputs": [
        {
          "output_type": "stream",
          "name": "stdout",
          "text": [
            "+----------+----------+----------+---------+-----------+----------+\n",
            "|      Date|      Open|     Close|   Volume|       mavg| direction|\n",
            "+----------+----------+----------+---------+-----------+----------+\n",
            "|2015-02-17|127.489998|127.830002| 63152400|117.9276669|Increasing|\n",
            "|2015-02-18|127.629997|128.720001| 44891700|118.9403335|Increasing|\n",
            "|2015-02-19|128.479996|128.449997| 37362400|119.8891668|Decreasing|\n",
            "|2015-02-20|128.619995|     129.5| 48948400|120.7635001|Increasing|\n",
            "|2015-02-23|130.020004|       133| 70974100|121.7201668|Increasing|\n",
            "|2015-02-24|132.940002|132.169998| 69228100|122.6648335|Decreasing|\n",
            "|2015-02-25|131.559998|128.789993| 74711700|123.6296667|Decreasing|\n",
            "|2015-02-26|128.789993|130.419998| 91287500|124.2823333|Increasing|\n",
            "|2015-02-27|       130|128.460007| 62014800|       NULL|Decreasing|\n",
            "|2015-03-02|    129.25|129.089996| 48096700|125.4036668|Decreasing|\n",
            "|2015-03-03|128.960007|129.360001| 37816300|125.9551669|Increasing|\n",
            "|2015-03-04|129.100006|128.539993| 31666300|126.4730002|Decreasing|\n",
            "|2015-03-05|128.580002|126.410004| 56517100|       NULL|Decreasing|\n",
            "|2015-03-06|128.399994|126.599998| 72842100|127.2288335|Decreasing|\n",
            "|2015-03-09|127.959999|127.139999| 88528500|       NULL|Decreasing|\n",
            "|2015-03-10|126.410004|124.510002| 68856600|127.9235004|Decreasing|\n",
            "|2015-03-11|    124.75|122.239998| 68939000|128.0033337|Decreasing|\n",
            "|2015-03-12|122.309998|124.449997| 48362700|127.9813337|Increasing|\n",
            "|2015-03-13|124.400002|123.589996| 51827300|       NULL|Decreasing|\n",
            "|2015-03-16|123.879997|124.949997| 35874300|127.7283335|Increasing|\n",
            "|2015-03-17|125.900002|127.040001| 51023100|127.6680002|Increasing|\n",
            "|2015-03-18|       127|128.470001| 65270900|       NULL|Increasing|\n",
            "|2015-03-19|    128.75|     127.5| 45809500|127.6245004|Decreasing|\n",
            "|2015-03-20|    128.25|125.900002| 68695100|127.4980004|Decreasing|\n",
            "|2015-03-23|127.120003|127.209999| 37709700|127.2633335|Increasing|\n",
            "|2015-03-24|127.230003|126.690002| 32842300|127.0025001|Decreasing|\n",
            "|2015-03-25|126.540001|123.379997| 51655200|126.7531667|Decreasing|\n",
            "|2015-03-26|122.760002|124.239998| 47572900|126.4835001|Increasing|\n",
            "|2015-03-27|    124.57|    123.25| 39546200|       NULL|Decreasing|\n",
            "|2015-03-30|124.050003|126.370003| 47099700|126.0283332|Increasing|\n",
            "|2015-03-31|126.089996|    124.43| 42090600|125.8334998|Decreasing|\n",
            "|2015-04-01|    124.82|    124.25| 40621400|125.6009999|Decreasing|\n",
            "|2015-04-02|125.029999|    125.32| 32220100|       NULL|Increasing|\n",
            "|2015-04-06|124.470001|127.349998| 37194000|125.4528332|Increasing|\n",
            "|2015-04-07|127.639999|126.010002| 35012300|125.4251665|Decreasing|\n",
            "|2015-04-08|125.849998|125.599998| 37329200|125.4491664|Decreasing|\n",
            "|2015-04-09|125.849998|126.559998| 32484000|       NULL|Increasing|\n",
            "|2015-04-10|125.949997|127.099998| 40188000|125.7369999|Increasing|\n",
            "|2015-04-13|128.369995|126.849998| 36365100|125.9113334|Decreasing|\n",
            "|2015-04-14|       127|126.300003| 25524600|126.0235002|Decreasing|\n",
            "|2015-04-15|126.410004|126.779999| 28970400|126.0220001|Increasing|\n",
            "|2015-04-16|126.279999|126.169998| 28369000|       NULL|Decreasing|\n",
            "|2015-04-17|125.550003|    124.75| 51957000|125.7983332|Decreasing|\n",
            "|2015-04-20|    125.57|127.599998| 47054300|125.8221664|Increasing|\n",
            "|2015-04-21|128.100006|126.910004| 32435100|125.8254998|Decreasing|\n",
            "|2015-04-22|126.989998|128.619995| 37654500|125.8674998|Increasing|\n",
            "|2015-04-23|128.300003|129.669998| 45770900|126.1116665|Increasing|\n",
            "|2015-04-24|130.490005|130.279999| 44525900|126.4186666|Decreasing|\n",
            "|2015-04-27|132.309998|132.649994| 96954200|126.8531664|Increasing|\n",
            "|2015-04-28|134.460007|130.559998|118924000|127.1514997|Decreasing|\n",
            "|2015-04-29|130.160004|128.639999| 63386100| 127.372333|Decreasing|\n",
            "|2015-04-30|128.639999|125.150002| 83195400|127.4706663|Decreasing|\n",
            "|2015-05-01|126.099998|128.949997| 58512600|127.6258331|Increasing|\n",
            "|2015-05-04|     129.5|128.699997| 50988300| 127.764833|Decreasing|\n",
            "|2015-05-05|128.149994|125.800003| 49271400|127.7634997|Decreasing|\n",
            "|2015-05-06|126.559998|125.010002| 72141000|127.7326664|Decreasing|\n",
            "|2015-05-07|124.769997|125.260002| 43940900|127.6919997|Increasing|\n",
            "|2015-05-08|    126.68|127.620003| 55550400|127.7216665|Increasing|\n",
            "|2015-05-11|127.389999|    126.32| 42035800|       NULL|Decreasing|\n",
            "|2015-05-12|125.599998|125.870003| 48160000|127.6474995|Increasing|\n",
            "|2015-05-13|126.150002|126.010002| 34694200| 127.633333|Decreasing|\n",
            "|2015-05-14|127.410004|128.949997| 45203500|127.7279997|Increasing|\n",
            "|2015-05-15|129.070007|128.770004| 38208000|127.9133333|Decreasing|\n",
            "|2015-05-18|128.380005|130.190002| 50882900|128.0530002|Increasing|\n",
            "|2015-05-19|130.690002|130.070007| 44633200|128.1998337|Decreasing|\n",
            "|2015-05-20|       130|130.059998| 36454900|128.3093337|Increasing|\n",
            "|2015-05-21|130.070007|131.389999| 39730400|128.3863339|Increasing|\n",
            "|2015-05-22|131.600006|132.539993| 45596000| 128.499167|Increasing|\n",
            "|2015-05-26|132.600006|129.619995| 70697600| 128.411167|Decreasing|\n",
            "|2015-05-27|130.339996|132.039993| 45833200|128.4058336|Increasing|\n",
            "|2015-05-28|131.860001|131.779999| 30733300|128.5108337|Decreasing|\n",
            "|2015-05-29|131.229996|130.279999| 50884500|128.7318334|Decreasing|\n",
            "|2015-06-01|130.279999|130.539993| 32112800|128.8584999|Increasing|\n",
            "|2015-06-02|129.860001|129.960007| 33667600|128.8986669|Increasing|\n",
            "|2015-06-03|130.660004|130.119995| 30889400|129.0808335|Decreasing|\n",
            "|2015-06-04|129.580002|129.360001| 38450100|129.3096669|Decreasing|\n",
            "|2015-06-05|     129.5|128.649994| 35626800|129.4986668|Decreasing|\n",
            "|2015-06-08|128.899994|127.800003| 52674800|129.5401669|Decreasing|\n",
            "|2015-06-09|126.699997|127.419998| 56075400|129.5670003|Increasing|\n",
            "|2015-06-10|127.919998|128.880005| 39087300| 129.708667|Increasing|\n",
            "|2015-06-11|129.179993|128.589996| 35390900|    129.845|Decreasing|\n",
            "|2015-06-12|128.190002|127.169998| 36886200|129.8041667|Decreasing|\n",
            "|2015-06-15|126.099998|126.919998| 43988900|129.6941663|Increasing|\n",
            "|2015-06-16|127.029999|127.599998| 31494100|129.5699996|Increasing|\n",
            "|2015-06-17|127.720001|127.300003| 32918100|129.4254994|Decreasing|\n",
            "|2015-06-18|127.230003|127.879997| 35407200|129.3093328|Increasing|\n",
            "|2015-06-19|127.709999|126.599998| 54716900|129.1088327|Decreasing|\n",
            "|2015-06-22|127.489998|127.610001| 34039300|128.8728329|Increasing|\n",
            "|2015-06-23|127.480003|127.029999| 30268900|128.7039996|Decreasing|\n",
            "|2015-06-24|127.209999|128.110001| 55280900|128.5486666|Increasing|\n",
            "|2015-06-25|128.860001|     127.5| 31938100|128.3714998|Decreasing|\n",
            "|2015-06-26|127.669998|    126.75| 44066800|   128.1985|Decreasing|\n",
            "|2015-06-29|125.459999|124.529999| 49161400|127.9235001|Decreasing|\n",
            "|2015-06-30|    125.57|    125.43| 44370700|127.6979999|Decreasing|\n",
            "|2015-07-01|126.900002|126.599998| 30238800|   127.5075|Decreasing|\n",
            "|2015-07-02|    126.43|126.440002| 27211000|127.3416666|Increasing|\n",
            "|2015-07-06|124.940002|       126| 28060400|127.1813333|Increasing|\n",
            "|2015-07-07|125.889999|125.690002| 46946800|127.0441664|Decreasing|\n",
            "|2015-07-08|124.480003|    122.57| 60761600|126.8546664|Decreasing|\n",
            "|2015-07-09|123.849998|    120.07| 77821600|126.4759997|Decreasing|\n",
            "+----------+----------+----------+---------+-----------+----------+\n",
            "only showing top 100 rows\n",
            "\n"
          ]
        }
      ],
      "source": [
        "full_df = df\n",
        "# Defining a list to subset the required columns\n",
        "columns=[\"Date\",\"Open\",\"Close\",\"Volume\",\"mavg\",\"direction\"]\n",
        "# Subsetting the required columns from the DataFrame\n",
        "df = df.select(columns)\n",
        "# The following command shows the data; by default it shows top 20 rows\n",
        "df.show(100)"
      ]
    },
    {
      "cell_type": "code",
      "execution_count": null,
      "id": "54fa1674",
      "metadata": {
        "id": "54fa1674",
        "outputId": "b49ebfc7-c690-4518-94cd-4ece57d584c0"
      },
      "outputs": [
        {
          "name": "stdout",
          "output_type": "stream",
          "text": [
            "+----------+--------------+-----------+----------+\n",
            "|High      |round(Open, 0)|dn         |direction |\n",
            "+----------+--------------+-----------+----------+\n",
            "|128.880005|127.0         |106.7410523|Increasing|\n",
            "|128.779999|128.0         |107.842423 |Increasing|\n",
            "|129.029999|128.0         |108.8942449|Decreasing|\n",
            "|129.5     |129.0         |109.7854494|Increasing|\n",
            "|133       |130.0         |110.3725162|Increasing|\n",
            "|133.600006|133.0         |111.0948689|Decreasing|\n",
            "|131.600006|132.0         |113.2119183|Decreasing|\n",
            "|130.869995|129.0         |114.1652991|Increasing|\n",
            "|130.570007|130.0         |114.9668484|Decreasing|\n",
            "|130.279999|129.0         |115.8770904|Decreasing|\n",
            "+----------+--------------+-----------+----------+\n",
            "only showing top 10 rows\n",
            "\n"
          ]
        }
      ],
      "source": [
        "from pyspark.sql.functions import round\n",
        "#You also have the option of selecting the columns by index\n",
        "#instead of selecting the names from the original DataFrame:\n",
        "#df.select(df[2],df[1],df[6],'direction').show(5,False) #list index out of range\n",
        "full_df.select(full_df[2],round(full_df[1]),full_df[7],'direction').show(10,False)"
      ]
    },
    {
      "cell_type": "markdown",
      "id": "bec43709",
      "metadata": {
        "id": "bec43709"
      },
      "source": [
        "# Missing Values\n"
      ]
    },
    {
      "cell_type": "code",
      "execution_count": 8,
      "id": "185b823b",
      "metadata": {
        "id": "185b823b",
        "outputId": "d212008d-d5d9-4714-c576-246a8a4c180d",
        "colab": {
          "base_uri": "https://localhost:8080/"
        }
      },
      "outputs": [
        {
          "output_type": "execute_result",
          "data": {
            "text/plain": [
              "18"
            ]
          },
          "metadata": {},
          "execution_count": 8
        }
      ],
      "source": [
        "#Calculate the missing values in a single column or in multiple columns by using\n",
        "#the built-in functions in PySpark, as follows:\n",
        "from pyspark.sql.functions import *\n",
        "full_df.filter((full_df['mavg']=='')|full_df['mavg']\\\n",
        ".isNull()|isnan(full_df['mavg'])).count()"
      ]
    },
    {
      "cell_type": "code",
      "source": [
        "from google.colab import drive\n",
        "drive.mount('/content/drive')"
      ],
      "metadata": {
        "id": "oN41jgGqh738"
      },
      "id": "oN41jgGqh738",
      "execution_count": null,
      "outputs": []
    },
    {
      "cell_type": "code",
      "execution_count": null,
      "id": "4ade4461",
      "metadata": {
        "id": "4ade4461",
        "outputId": "e140f64f-19e0-4192-f706-cb95d1da01b4"
      },
      "outputs": [
        {
          "name": "stdout",
          "output_type": "stream",
          "text": [
            "+----+----+-----+------+----+---------+\n",
            "|Date|Open|Close|Volume|mavg|direction|\n",
            "+----+----+-----+------+----+---------+\n",
            "|   0|   0|    0|     0|  18|        0|\n",
            "+----+----+-----+------+----+---------+\n",
            "\n"
          ]
        }
      ],
      "source": [
        "#Calculate all the missing values in the DataFrame,\n",
        "full_df.select([count(when((col(c)=='') | col(c).isNull() |isnan(c), c)).\n",
        "alias(c) for c in df.columns]).show()"
      ]
    },
    {
      "cell_type": "markdown",
      "id": "89be66eb",
      "metadata": {
        "id": "89be66eb"
      },
      "source": [
        "# One-Way Frequencies\n"
      ]
    },
    {
      "cell_type": "code",
      "execution_count": null,
      "id": "c5c8e20c",
      "metadata": {
        "id": "c5c8e20c",
        "outputId": "f7a6ad12-4f8a-4988-fff5-1b79074a16d4"
      },
      "outputs": [
        {
          "name": "stdout",
          "output_type": "stream",
          "text": [
            "+----------+-----+\n",
            "| direction|count|\n",
            "+----------+-----+\n",
            "|Increasing|  278|\n",
            "|Decreasing|  228|\n",
            "+----------+-----+\n",
            "\n"
          ]
        }
      ],
      "source": [
        "full_df.groupBy(df['direction']).count().show()"
      ]
    },
    {
      "cell_type": "markdown",
      "id": "74b5f0ec",
      "metadata": {
        "id": "74b5f0ec"
      },
      "source": [
        "# Sorting and Filtering One-Way Frequencies"
      ]
    },
    {
      "cell_type": "code",
      "execution_count": null,
      "id": "8d1111b3",
      "metadata": {
        "id": "8d1111b3",
        "outputId": "d8cd0956-4259-4fd2-e895-6523e1d4fdaf"
      },
      "outputs": [
        {
          "name": "stdout",
          "output_type": "stream",
          "text": [
            "+----------+----------+----------+--------+-----------+----------+\n",
            "|      Date|      Open|     Close|  Volume|       mavg| direction|\n",
            "+----------+----------+----------+--------+-----------+----------+\n",
            "|2015-02-17|127.489998|127.830002|63152400|117.9276669|Increasing|\n",
            "|2015-02-18|127.629997|128.720001|44891700|118.9403335|Increasing|\n",
            "|2015-02-19|128.479996|128.449997|37362400|119.8891668|Decreasing|\n",
            "|2015-02-20|128.619995|     129.5|48948400|120.7635001|Increasing|\n",
            "|2015-02-23|130.020004|       133|70974100|121.7201668|Increasing|\n",
            "|2015-02-24|132.940002|132.169998|69228100|122.6648335|Decreasing|\n",
            "|2015-02-25|131.559998|128.789993|74711700|123.6296667|Decreasing|\n",
            "|2015-02-26|128.789993|130.419998|91287500|124.2823333|Increasing|\n",
            "|2015-03-02|    129.25|129.089996|48096700|125.4036668|Decreasing|\n",
            "|2015-03-03|128.960007|129.360001|37816300|125.9551669|Increasing|\n",
            "|2015-03-04|129.100006|128.539993|31666300|126.4730002|Decreasing|\n",
            "|2015-03-06|128.399994|126.599998|72842100|127.2288335|Decreasing|\n",
            "|2015-03-10|126.410004|124.510002|68856600|127.9235004|Decreasing|\n",
            "|2015-03-11|    124.75|122.239998|68939000|128.0033337|Decreasing|\n",
            "|2015-03-12|122.309998|124.449997|48362700|127.9813337|Increasing|\n",
            "|2015-03-16|123.879997|124.949997|35874300|127.7283335|Increasing|\n",
            "|2015-03-17|125.900002|127.040001|51023100|127.6680002|Increasing|\n",
            "|2015-03-19|    128.75|     127.5|45809500|127.6245004|Decreasing|\n",
            "|2015-03-20|    128.25|125.900002|68695100|127.4980004|Decreasing|\n",
            "|2015-03-23|127.120003|127.209999|37709700|127.2633335|Increasing|\n",
            "+----------+----------+----------+--------+-----------+----------+\n",
            "only showing top 20 rows\n",
            "\n"
          ]
        }
      ],
      "source": [
        "# Subsetting and creating a temporary DataFrame to eliminate any missing values\n",
        "df_temp=df.filter((df['mavg']!='')&(df['mavg'].isNotNull()) &\n",
        "(~isnan(df['mavg'])))\n",
        "df_temp.show()"
      ]
    },
    {
      "cell_type": "code",
      "execution_count": null,
      "id": "e66b5482",
      "metadata": {
        "scrolled": true,
        "id": "e66b5482",
        "outputId": "f335d468-649b-4625-9b55-1906ad199c84"
      },
      "outputs": [
        {
          "name": "stdout",
          "output_type": "stream",
          "text": [
            "+----------+----------+----------+--------+-----------+----------+------------+\n",
            "|      Date|      Open|     Close|  Volume|       mavg| direction|Rounded_Open|\n",
            "+----------+----------+----------+--------+-----------+----------+------------+\n",
            "|2015-02-17|127.489998|127.830002|63152400|117.9276669|Increasing|       127.0|\n",
            "|2015-02-18|127.629997|128.720001|44891700|118.9403335|Increasing|       128.0|\n",
            "|2015-02-19|128.479996|128.449997|37362400|119.8891668|Decreasing|       128.0|\n",
            "|2015-02-20|128.619995|     129.5|48948400|120.7635001|Increasing|       129.0|\n",
            "|2015-02-23|130.020004|       133|70974100|121.7201668|Increasing|       130.0|\n",
            "|2015-02-24|132.940002|132.169998|69228100|122.6648335|Decreasing|       133.0|\n",
            "|2015-02-25|131.559998|128.789993|74711700|123.6296667|Decreasing|       132.0|\n",
            "|2015-02-26|128.789993|130.419998|91287500|124.2823333|Increasing|       129.0|\n",
            "|2015-02-27|       130|128.460007|62014800|       NULL|Decreasing|       130.0|\n",
            "|2015-03-02|    129.25|129.089996|48096700|125.4036668|Decreasing|       129.0|\n",
            "|2015-03-03|128.960007|129.360001|37816300|125.9551669|Increasing|       129.0|\n",
            "|2015-03-04|129.100006|128.539993|31666300|126.4730002|Decreasing|       129.0|\n",
            "|2015-03-05|128.580002|126.410004|56517100|       NULL|Decreasing|       129.0|\n",
            "|2015-03-06|128.399994|126.599998|72842100|127.2288335|Decreasing|       128.0|\n",
            "|2015-03-09|127.959999|127.139999|88528500|       NULL|Decreasing|       128.0|\n",
            "|2015-03-10|126.410004|124.510002|68856600|127.9235004|Decreasing|       126.0|\n",
            "|2015-03-11|    124.75|122.239998|68939000|128.0033337|Decreasing|       125.0|\n",
            "|2015-03-12|122.309998|124.449997|48362700|127.9813337|Increasing|       122.0|\n",
            "|2015-03-13|124.400002|123.589996|51827300|       NULL|Decreasing|       124.0|\n",
            "|2015-03-16|123.879997|124.949997|35874300|127.7283335|Increasing|       124.0|\n",
            "+----------+----------+----------+--------+-----------+----------+------------+\n",
            "only showing top 20 rows\n",
            "\n",
            "+------------+-----+\n",
            "|Rounded_Open|count|\n",
            "+------------+-----+\n",
            "|109.0       |23   |\n",
            "|110.0       |23   |\n",
            "|116.0       |21   |\n",
            "|117.0       |21   |\n",
            "+------------+-----+\n",
            "\n"
          ]
        }
      ],
      "source": [
        "# Subsetting the DataFrame to Open that are repeated more than 20 times\n",
        "columns=[\"Date\",\"Open\",\"Close\",\"Volume\",\"mavg\",\"direction\"]\n",
        "df_temp = df.select(columns)\n",
        "df_temp=df_temp.withColumn(\"Rounded_Open\", round(col(\"Open\"), 0))\n",
        "df_temp.show()\n",
        "df_temp.groupby(df_temp['Rounded_Open'])\\\n",
        ".count().filter(\"`count` >20\")\\\n",
        ".sort(col(\"count\").desc()).show(10,False)"
      ]
    },
    {
      "cell_type": "markdown",
      "id": "55e068ac",
      "metadata": {
        "id": "55e068ac"
      },
      "source": [
        "# Casting Variables"
      ]
    },
    {
      "cell_type": "code",
      "execution_count": null,
      "id": "990f82b7",
      "metadata": {
        "id": "990f82b7",
        "outputId": "25346453-fbc3-4d8c-decd-19362dd5adb4"
      },
      "outputs": [
        {
          "name": "stdout",
          "output_type": "stream",
          "text": [
            "+----------+----------+----------+-----------+-----------+----------+\n",
            "|      Date|      Open|     Close|     Volume|       mavg| direction|\n",
            "+----------+----------+----------+-----------+-----------+----------+\n",
            "|2015-02-17|127.489998|127.830002|  6.31524E7|117.9276669|Increasing|\n",
            "|2015-02-18|127.629997|128.720001|  4.48917E7|118.9403335|Increasing|\n",
            "|2015-02-19|128.479996|128.449997|  3.73624E7|119.8891668|Decreasing|\n",
            "|2015-02-20|128.619995|     129.5|  4.89484E7|120.7635001|Increasing|\n",
            "|2015-02-23|130.020004|       133|7.0974096E7|121.7201668|Increasing|\n",
            "|2015-02-24|132.940002|132.169998|6.9228096E7|122.6648335|Decreasing|\n",
            "|2015-02-25|131.559998|128.789993|7.4711696E7|123.6296667|Decreasing|\n",
            "|2015-02-26|128.789993|130.419998|9.1287504E7|124.2823333|Increasing|\n",
            "|2015-02-27|       130|128.460007|  6.20148E7|       NULL|Decreasing|\n",
            "|2015-03-02|    129.25|129.089996|  4.80967E7|125.4036668|Decreasing|\n",
            "|2015-03-03|128.960007|129.360001|  3.78163E7|125.9551669|Increasing|\n",
            "|2015-03-04|129.100006|128.539993|  3.16663E7|126.4730002|Decreasing|\n",
            "|2015-03-05|128.580002|126.410004|  5.65171E7|       NULL|Decreasing|\n",
            "|2015-03-06|128.399994|126.599998|7.2842096E7|127.2288335|Decreasing|\n",
            "|2015-03-09|127.959999|127.139999|8.8528496E7|       NULL|Decreasing|\n",
            "|2015-03-10|126.410004|124.510002|  6.88566E7|127.9235004|Decreasing|\n",
            "|2015-03-11|    124.75|122.239998|   6.8939E7|128.0033337|Decreasing|\n",
            "|2015-03-12|122.309998|124.449997|  4.83627E7|127.9813337|Increasing|\n",
            "|2015-03-13|124.400002|123.589996|  5.18273E7|       NULL|Decreasing|\n",
            "|2015-03-16|123.879997|124.949997|  3.58743E7|127.7283335|Increasing|\n",
            "+----------+----------+----------+-----------+-----------+----------+\n",
            "only showing top 20 rows\n",
            "\n"
          ]
        }
      ],
      "source": [
        "#Casting\n",
        "df = df.withColumn('Volume',df['Volume'].cast(\"float\"))\n",
        "#After Casting\n",
        "df.dtypes\n",
        "df.show()"
      ]
    },
    {
      "cell_type": "code",
      "execution_count": null,
      "id": "b45d86de",
      "metadata": {
        "id": "b45d86de",
        "outputId": "0cbaaae8-6b73-4b97-e9f4-6a1ab101a3e7"
      },
      "outputs": [
        {
          "data": {
            "text/plain": [
              "[('Date', 'date'),\n",
              " ('Open', 'float'),\n",
              " ('Close', 'float'),\n",
              " ('Volume', 'float'),\n",
              " ('mavg', 'float'),\n",
              " ('direction', 'string')]"
            ]
          },
          "execution_count": 12,
          "metadata": {},
          "output_type": "execute_result"
        }
      ],
      "source": [
        "#Importing necessary libraries\n",
        "from pyspark.sql.types import *\n",
        "#Identifying and assigning lists of variables\n",
        "float_vars=['Open', 'Close', 'Volume','mavg']\n",
        "date_vars=['Date']\n",
        "#Converting variables\n",
        "for column in float_vars:\n",
        " df=df.withColumn(column,df[column].cast(FloatType()))\n",
        "for column in date_vars:\n",
        " df=df.withColumn(column,df[column].cast(DateType()))\n",
        "\n",
        "df.dtypes\n"
      ]
    },
    {
      "cell_type": "code",
      "execution_count": null,
      "id": "edf525f6",
      "metadata": {
        "id": "edf525f6",
        "outputId": "77c00f04-7a75-4a6f-a5de-3f54cfac0a94"
      },
      "outputs": [
        {
          "name": "stdout",
          "output_type": "stream",
          "text": [
            "+----------+------+------+-----------+----------+----------+\n",
            "|Date      |Open  |Close |Volume     |mavg      |direction |\n",
            "+----------+------+------+-----------+----------+----------+\n",
            "|2015-02-17|127.49|127.83|6.31524E7  |117.927666|Increasing|\n",
            "|2015-02-18|127.63|128.72|4.48917E7  |118.94033 |Increasing|\n",
            "|2015-02-19|128.48|128.45|3.73624E7  |119.88917 |Decreasing|\n",
            "|2015-02-20|128.62|129.5 |4.89484E7  |120.7635  |Increasing|\n",
            "|2015-02-23|130.02|133.0 |7.0974096E7|121.72017 |Increasing|\n",
            "|2015-02-24|132.94|132.17|6.9228096E7|122.66483 |Decreasing|\n",
            "|2015-02-25|131.56|128.79|7.4711696E7|123.62967 |Decreasing|\n",
            "|2015-02-26|128.79|130.42|9.1287504E7|124.28233 |Increasing|\n",
            "|2015-02-27|130.0 |128.46|6.20148E7  |NULL      |Decreasing|\n",
            "|2015-03-02|129.25|129.09|4.80967E7  |125.40366 |Decreasing|\n",
            "+----------+------+------+-----------+----------+----------+\n",
            "only showing top 10 rows\n",
            "\n"
          ]
        }
      ],
      "source": [
        "df.show(10,False)"
      ]
    },
    {
      "cell_type": "markdown",
      "id": "bba4cbfe",
      "metadata": {
        "id": "bba4cbfe"
      },
      "source": [
        "# Descriptive Statistics"
      ]
    },
    {
      "cell_type": "code",
      "execution_count": null,
      "id": "fa3f7a9b",
      "metadata": {
        "id": "fa3f7a9b",
        "outputId": "6195d890-a958-45bd-d71d-7e2f143e3460"
      },
      "outputs": [
        {
          "name": "stdout",
          "output_type": "stream",
          "text": [
            "+-------+------------------+------------------+--------------------+\n",
            "|summary|              Open|             Close|              Volume|\n",
            "+-------+------------------+------------------+--------------------+\n",
            "|  count|               506|               506|                 506|\n",
            "|   mean|112.93499998612837|112.95833972131781| 4.317842094071146E7|\n",
            "| stddev|11.287489727914043|11.244743807947772|1.9852531320971377E7|\n",
            "|    min|              90.0|             90.34|           1.14759E7|\n",
            "|    max|            135.67|            135.51|        1.62206304E8|\n",
            "+-------+------------------+------------------+--------------------+\n",
            "\n"
          ]
        }
      ],
      "source": [
        "columns=[\"Open\",\"Close\",\"Volume\"]\n",
        "# Subsetting the required columns from the DataFrame\n",
        "df = df.select(columns)\n",
        "df.describe().show()"
      ]
    },
    {
      "cell_type": "code",
      "execution_count": null,
      "id": "edf3e2bb",
      "metadata": {
        "id": "edf3e2bb",
        "outputId": "ccbaa619-57db-4ce2-f28f-e5b7788160f3"
      },
      "outputs": [
        {
          "name": "stdout",
          "output_type": "stream",
          "text": [
            "The median of Open is [110.19000244140625]\n"
          ]
        }
      ],
      "source": [
        "#Since unknown values in Open are marked to be 0, let’s filter out those\n",
        "#values before calculating the median\n",
        "df_temp = df.filter((df['Open']!=0)&(df['Open'].isNotNull()) &\n",
        "(~isnan(df['Open'])))\n",
        "#Here the second parameter indicates the median value, which is 0.5; you\n",
        "#can also try adjusting the value to calculate other percentiles\n",
        "median=df.approxQuantile('Open',[0.5],0.1)\n",
        "#Printing the Value\n",
        "print ('The median of Open is '+str(median))"
      ]
    },
    {
      "cell_type": "markdown",
      "id": "95dfb3fe",
      "metadata": {
        "id": "95dfb3fe"
      },
      "source": [
        "# Unique/Distinct Values and Counts"
      ]
    },
    {
      "cell_type": "code",
      "execution_count": null,
      "id": "ee7e51fb",
      "metadata": {
        "id": "ee7e51fb",
        "outputId": "7a1edc95-340b-4d1b-c124-534e8f477d63"
      },
      "outputs": [
        {
          "name": "stdout",
          "output_type": "stream",
          "text": [
            "+-----+\n",
            "|Count|\n",
            "+-----+\n",
            "|    2|\n",
            "+-----+\n",
            "\n"
          ]
        }
      ],
      "source": [
        "#You may sometimes just want to know the number of levels (cardinality) within\n",
        "#a variable. You can do this using the countDistinct function available in Spark\n",
        "# Counts the distinct occurances of titles\n",
        "full_df.agg(countDistinct(col(\"Direction\")).alias(\"Count\")).show()"
      ]
    },
    {
      "cell_type": "code",
      "execution_count": null,
      "id": "bc20940c",
      "metadata": {
        "id": "bc20940c",
        "outputId": "055b6be9-273c-4ac3-e6a5-7d90207c1cad"
      },
      "outputs": [
        {
          "name": "stdout",
          "output_type": "stream",
          "text": [
            "+----------+\n",
            "|Date      |\n",
            "+----------+\n",
            "|2015-05-01|\n",
            "|2016-08-17|\n",
            "|2015-02-27|\n",
            "|2016-04-22|\n",
            "|2016-08-08|\n",
            "|2015-02-26|\n",
            "|2015-11-20|\n",
            "|2016-07-06|\n",
            "|2016-03-17|\n",
            "|2016-04-15|\n",
            "+----------+\n",
            "only showing top 10 rows\n",
            "\n"
          ]
        }
      ],
      "source": [
        "# Counts the distinct occurances of Date\n",
        "full_df.select('Date').distinct().show(10,False)"
      ]
    },
    {
      "cell_type": "code",
      "execution_count": null,
      "id": "e666ae7a",
      "metadata": {
        "id": "e666ae7a",
        "outputId": "5a07d09e-4e0d-4acd-8656-c44e9996aff0"
      },
      "outputs": [
        {
          "name": "stdout",
          "output_type": "stream",
          "text": [
            "+----------+----------+----------+--------+----------+--------------------+----+\n",
            "|      Date|      Open|     Close|  Volume| direction|           headlines|Year|\n",
            "+----------+----------+----------+--------+----------+--------------------+----+\n",
            "|2015-02-17|127.489998|127.830002|63152400|Increasing|A group of journa...|2015|\n",
            "|2015-02-18|127.629997|128.720001|44891700|Increasing|Playboy Enterpris...|2015|\n",
            "|2015-02-19|128.479996|128.449997|37362400|Decreasing|Hardware and soft...|2015|\n",
            "|2015-02-20|128.619995|     129.5|48948400|Increasing|GMO Internet, a l...|2015|\n",
            "|2015-02-23|130.020004|       133|70974100|Increasing|A Tokyo-based rea...|2015|\n",
            "+----------+----------+----------+--------+----------+--------------------+----+\n",
            "only showing top 5 rows\n",
            "\n",
            "+----------+----------+----------+--------+----------+--------------------+----+-----+\n",
            "|      Date|      Open|     Close|  Volume| direction|           headlines|Year|Month|\n",
            "+----------+----------+----------+--------+----------+--------------------+----+-----+\n",
            "|2015-02-17|127.489998|127.830002|63152400|Increasing|A group of journa...|2015|    2|\n",
            "|2015-02-18|127.629997|128.720001|44891700|Increasing|Playboy Enterpris...|2015|    2|\n",
            "|2015-02-19|128.479996|128.449997|37362400|Decreasing|Hardware and soft...|2015|    2|\n",
            "|2015-02-20|128.619995|     129.5|48948400|Increasing|GMO Internet, a l...|2015|    2|\n",
            "|2015-02-23|130.020004|       133|70974100|Increasing|A Tokyo-based rea...|2015|    2|\n",
            "+----------+----------+----------+--------+----------+--------------------+----+-----+\n",
            "only showing top 5 rows\n",
            "\n",
            "+----------+----------+----------+--------+----------+--------------------+----+-----+------------+\n",
            "|      Date|      Open|     Close|  Volume| direction|           headlines|Year|Month|Day_of_Month|\n",
            "+----------+----------+----------+--------+----------+--------------------+----+-----+------------+\n",
            "|2015-02-17|127.489998|127.830002|63152400|Increasing|A group of journa...|2015|    2|          17|\n",
            "|2015-02-18|127.629997|128.720001|44891700|Increasing|Playboy Enterpris...|2015|    2|          18|\n",
            "|2015-02-19|128.479996|128.449997|37362400|Decreasing|Hardware and soft...|2015|    2|          19|\n",
            "|2015-02-20|128.619995|     129.5|48948400|Increasing|GMO Internet, a l...|2015|    2|          20|\n",
            "|2015-02-23|130.020004|       133|70974100|Increasing|A Tokyo-based rea...|2015|    2|          23|\n",
            "+----------+----------+----------+--------+----------+--------------------+----+-----+------------+\n",
            "only showing top 5 rows\n",
            "\n",
            "+----+-------------------------+\n",
            "|Year|count(DISTINCT Direction)|\n",
            "+----+-------------------------+\n",
            "|2015|2                        |\n",
            "|2016|2                        |\n",
            "|2017|2                        |\n",
            "+----+-------------------------+\n",
            "\n"
          ]
        }
      ],
      "source": [
        "# Extracting year from the date\n",
        "\n",
        "columns=[\"Date\",\"Open\",\"Close\",\"Volume\",\"direction\",\"headlines\"]\n",
        "df_temp=full_df.select(columns)\n",
        "\n",
        "df_temp=df_temp.withColumn('Year',year('Date'))\n",
        "df_temp.show(5)\n",
        "# Extracting month\n",
        "df_temp=df_temp.withColumn('Month',month('Date'))\n",
        "df_temp.show(5)\n",
        "# Extracting day of month\n",
        "df_temp=df_temp.withColumn('Day_of_Month',dayofmonth('Date'))\n",
        "df_temp.show(5)\n",
        "# Calculating the distinct counts by the year\n",
        "df_temp.groupBy(\"Year\").agg(countDistinct(\"Direction\")).show(5,False)\n",
        "\n"
      ]
    },
    {
      "cell_type": "markdown",
      "id": "8a6e32e9",
      "metadata": {
        "id": "8a6e32e9"
      },
      "source": [
        "# Filtering"
      ]
    },
    {
      "cell_type": "code",
      "execution_count": null,
      "id": "1a5e03bc",
      "metadata": {
        "id": "1a5e03bc",
        "outputId": "dab56621-8569-4451-8f0c-d70b7c50ccf8"
      },
      "outputs": [
        {
          "name": "stdout",
          "output_type": "stream",
          "text": [
            "+----------+----------+----------+--------+----------+--------------------------------------------------------------------------------+----+-----+------------+\n",
            "|Date      |Open      |Close     |Volume  |direction |headlines                                                                       |Year|Month|Day_of_Month|\n",
            "+----------+----------+----------+--------+----------+--------------------------------------------------------------------------------+----+-----+------------+\n",
            "|2015-02-18|127.629997|128.720001|44891700|Increasing|Playboy Enterprises, the parent company of Playboy Magazine, is suing cryptocurr|2015|2    |18          |\n",
            "|2015-03-05|128.580002|126.410004|56517100|Decreasing|Playboy Enterprises, Inc. has announced it is launching its own cryptocurrency a|2015|3    |5           |\n",
            "+----------+----------+----------+--------+----------+--------------------------------------------------------------------------------+----+-----+------------+\n",
            "\n"
          ]
        }
      ],
      "source": [
        "#Filter all the Directions that start with “Inc\"\n",
        "df_temp.filter(df_temp['Headlines'].like('Playboy%')).show(3,False)"
      ]
    },
    {
      "cell_type": "code",
      "execution_count": null,
      "id": "00feb4b3",
      "metadata": {
        "id": "00feb4b3",
        "outputId": "99195083-b155-4be6-8efa-16dbbd834bd3"
      },
      "outputs": [
        {
          "name": "stdout",
          "output_type": "stream",
          "text": [
            "+----------+----------+----------+--------+----------+--------------------------------------------------------------------------------+----+-----+------------+\n",
            "|Date      |Open      |Close     |Volume  |direction |headlines                                                                       |Year|Month|Day_of_Month|\n",
            "+----------+----------+----------+--------+----------+--------------------------------------------------------------------------------+----+-----+------------+\n",
            "|2015-02-18|127.629997|128.720001|44891700|Increasing|Playboy Enterprises, the parent company of Playboy Magazine, is suing cryptocurr|2015|2    |18          |\n",
            "|2015-02-19|128.479996|128.449997|37362400|Decreasing|Hardware and software giant Microsoft reportedly brought back bitcoin payments a|2015|2    |19          |\n",
            "|2015-02-20|128.619995|129.5     |48948400|Increasing|GMO Internet, a leading Japanese Internet services provider that offers online s|2015|2    |20          |\n",
            "+----------+----------+----------+--------+----------+--------------------------------------------------------------------------------+----+-----+------------+\n",
            "only showing top 3 rows\n",
            "\n"
          ]
        }
      ],
      "source": [
        "#Now, let’s find out the dates that do not end with an “17”\n",
        "df_temp.filter(~df_temp['Date'].like('%17')).show(3,False)"
      ]
    },
    {
      "cell_type": "code",
      "execution_count": null,
      "id": "35b420d5",
      "metadata": {
        "id": "35b420d5",
        "outputId": "3763c288-14e6-470f-a2cf-af6a16d98bc2"
      },
      "outputs": [
        {
          "name": "stdout",
          "output_type": "stream",
          "text": [
            "+----------+----------+----------+--------+----------+--------------------------------------------------------------------------------+----+-----+------------+\n",
            "|Date      |Open      |Close     |Volume  |direction |headlines                                                                       |Year|Month|Day_of_Month|\n",
            "+----------+----------+----------+--------+----------+--------------------------------------------------------------------------------+----+-----+------------+\n",
            "|2015-02-20|128.619995|129.5     |48948400|Increasing|GMO Internet, a leading Japanese Internet services provider that offers online s|2015|2    |20          |\n",
            "|2016-08-03|104.809998|105.790001|30202600|Increasing|VeChain, a China-based Internet of Things (IoT)-focused crypto, has surged by mo|2016|8    |3           |\n",
            "+----------+----------+----------+--------+----------+--------------------------------------------------------------------------------+----+-----+------------+\n",
            "\n"
          ]
        }
      ],
      "source": [
        "#find any title that contains “Internet” we could use the rlike function,\n",
        "#which is a regular expression\n",
        "df_temp.filter(df_temp['headlines'].rlike('\\w*Internet')).show(10,False)"
      ]
    },
    {
      "cell_type": "code",
      "execution_count": null,
      "id": "b6d3d621",
      "metadata": {
        "scrolled": true,
        "id": "b6d3d621",
        "outputId": "81bac138-3bcd-42bf-c965-cdba88d63e6a"
      },
      "outputs": [
        {
          "name": "stdout",
          "output_type": "stream",
          "text": [
            "+----------+----------+----------+--------+----------+--------------------+----+-----+------------+\n",
            "|      Date|      Open|     Close|  Volume| direction|           headlines|Year|Month|Day_of_Month|\n",
            "+----------+----------+----------+--------+----------+--------------------+----+-----+------------+\n",
            "|2015-02-20|128.619995|     129.5|48948400|Increasing|GMO Internet, a l...|2015|    2|          20|\n",
            "|2016-08-03|104.809998|105.790001|30202600|Increasing|VeChain, a China-...|2016|    8|           3|\n",
            "+----------+----------+----------+--------+----------+--------------------+----+-----+------------+\n",
            "\n"
          ]
        }
      ],
      "source": [
        "#The preceding expression can also be rewritten as follows:\n",
        "df_temp.filter(df_temp.headlines.contains('Internet')).show()"
      ]
    },
    {
      "cell_type": "code",
      "execution_count": null,
      "id": "a2e04902",
      "metadata": {
        "id": "a2e04902",
        "outputId": "725ec3fe-6ea7-4ab9-aa3a-b7d5c571d712"
      },
      "outputs": [
        {
          "name": "stdout",
          "output_type": "stream",
          "text": [
            "root\n",
            " |-- Close: float (nullable = true)\n",
            " |-- Volume: float (nullable = true)\n",
            "\n"
          ]
        }
      ],
      "source": [
        "#identify variables that end with a particular suffix? Here we\n",
        "#have three variables that end with “e”; let’s see if we can identify them by tweaking our\n",
        "#earlier regular expressions\n",
        "df.select(df.colRegex(\"`\\w*e`\")).printSchema()"
      ]
    },
    {
      "cell_type": "code",
      "execution_count": null,
      "id": "2a712cf5",
      "metadata": {
        "id": "2a712cf5",
        "outputId": "437341f0-c45f-4e0e-c16a-ea9571feb992"
      },
      "outputs": [
        {
          "name": "stdout",
          "output_type": "stream",
          "text": [
            "135.50999450683594\n",
            "506\n",
            "112.95833972131781\n"
          ]
        }
      ],
      "source": [
        "#So, let’s first calculate the max by using the following command. The agg function\n",
        "#used here is handy instead of using describe when you are looking for a specific statistic:\n",
        "max_pop=df.agg({'Close': 'max'}).collect()[0]['max(Close)']\n",
        "print(max_pop)\n",
        "count_obs= df.count()\n",
        "print(count_obs)\n",
        "mean_pop=df.agg({'Close': 'mean'}).collect()[0]['avg(Close)']\n",
        "print(mean_pop)"
      ]
    },
    {
      "cell_type": "code",
      "execution_count": null,
      "id": "9d01b302",
      "metadata": {
        "id": "9d01b302",
        "outputId": "b3aba1b6-854f-4e1f-e854-5529632a34a0"
      },
      "outputs": [
        {
          "name": "stdout",
          "output_type": "stream",
          "text": [
            "63854.35296972171\n",
            "126.44426330637963\n"
          ]
        }
      ],
      "source": [
        "#The lit function is a way\n",
        "#to interact with column literals. It is very useful when you want\n",
        "#to create a column with a value directly.\n",
        "df=df.withColumn('mean_Close',lit(mean_pop))\n",
        "df=df.withColumn('varaiance',pow((df['Close']-df['mean_Close']),2))\n",
        "variance_sum=df.agg({'varaiance': 'sum'}).collect()[0]['sum(varaiance)']\n",
        "print(variance_sum)\n",
        "variance_population= variance_sum/(count_obs-1)\n",
        "print(variance_population)\n"
      ]
    },
    {
      "cell_type": "markdown",
      "id": "f8aff635",
      "metadata": {
        "id": "f8aff635"
      },
      "source": [
        "# Creating new column"
      ]
    },
    {
      "cell_type": "code",
      "execution_count": null,
      "id": "6248431b",
      "metadata": {
        "id": "6248431b",
        "outputId": "83f2ee41-3b77-49b5-868d-a9b478404d75"
      },
      "outputs": [
        {
          "name": "stderr",
          "output_type": "stream",
          "text": [
            "\r",
            "[Stage 60:>                                                         (0 + 1) / 1]\r"
          ]
        },
        {
          "name": "stdout",
          "output_type": "stream",
          "text": [
            "+------+------+-----------+--------------+\n",
            "|  Open| Close|     Volume|        newcat|\n",
            "+------+------+-----------+--------------+\n",
            "|127.49|127.83|  6.31524E7|   {Big, High}|\n",
            "|127.63|128.72|  4.48917E7| {Small, High}|\n",
            "|128.48|128.45|  3.73624E7| {Small, High}|\n",
            "|128.62| 129.5|  4.89484E7|{Medium, High}|\n",
            "|130.02| 133.0|7.0974096E7|   {Big, High}|\n",
            "|132.94|132.17|6.9228096E7|   {Big, High}|\n",
            "|131.56|128.79|7.4711696E7|   {Big, High}|\n",
            "|128.79|130.42|9.1287504E7|   {Big, High}|\n",
            "| 130.0|128.46|  6.20148E7|   {Big, High}|\n",
            "|129.25|129.09|  4.80967E7| {Small, High}|\n",
            "+------+------+-----------+--------------+\n",
            "only showing top 10 rows\n",
            "\n"
          ]
        },
        {
          "name": "stderr",
          "output_type": "stream",
          "text": [
            "\r",
            "                                                                                \r"
          ]
        }
      ],
      "source": [
        "def new_cols(Volume,Open):\n",
        " if Volume<48948400: Volume_cat='Small'\n",
        " elif Volume<58948400: Volume_cat='Medium'\n",
        " else: Volume_cat='Big'\n",
        " if Open<3: Open_cat='Low'\n",
        " elif Open<5: Open_cat='Mid'\n",
        " else: Open_cat='High'\n",
        " return Volume_cat,Open_cat\n",
        "# Apply the user-defined function on the DataFrame\n",
        "udfB=udf(new_cols,StructType([StructField(\"Volume_cat\", StringType(),\n",
        "True),StructField(\"Open_cat\", StringType(), True)]))\n",
        "# Pass a user-defined function with two input columns Open and Close\n",
        "df_temp=df.select('Open','Close','Volume').withColumn(\"newcat\",udfB(\"Volume\",\"Open\"))\n",
        "df_temp.show(10)\n"
      ]
    },
    {
      "cell_type": "code",
      "execution_count": null,
      "id": "c1b74afc",
      "metadata": {
        "id": "c1b74afc",
        "outputId": "bdcc86a2-8c05-43d9-b7f4-c9f699b9e64b"
      },
      "outputs": [
        {
          "name": "stdout",
          "output_type": "stream",
          "text": [
            "+------+------+-----------+----------+--------+\n",
            "|Open  |Close |Volume     |Volume_cat|Open_cat|\n",
            "+------+------+-----------+----------+--------+\n",
            "|127.49|127.83|6.31524E7  |Big       |High    |\n",
            "|127.63|128.72|4.48917E7  |Small     |High    |\n",
            "|128.48|128.45|3.73624E7  |Small     |High    |\n",
            "|128.62|129.5 |4.89484E7  |Medium    |High    |\n",
            "|130.02|133.0 |7.0974096E7|Big       |High    |\n",
            "|132.94|132.17|6.9228096E7|Big       |High    |\n",
            "|131.56|128.79|7.4711696E7|Big       |High    |\n",
            "|128.79|130.42|9.1287504E7|Big       |High    |\n",
            "|130.0 |128.46|6.20148E7  |Big       |High    |\n",
            "|129.25|129.09|4.80967E7  |Small     |High    |\n",
            "+------+------+-----------+----------+--------+\n",
            "only showing top 10 rows\n",
            "\n"
          ]
        }
      ],
      "source": [
        "# Unbundle the struct type columns into individual columns and drop the struct type\n",
        "df_with_newcols = df_temp.select('Open','Close','Volume','newcat')\\\n",
        ".withColumn('Volume_cat', df_temp.newcat\\\n",
        ".getItem('Volume_cat'))\\\n",
        ".withColumn('Open_cat', df_temp.newcat\\\n",
        ".getItem('Open_cat')).drop('newcat')\n",
        "df_with_newcols.show(10,False)"
      ]
    },
    {
      "cell_type": "markdown",
      "id": "1d215cdf",
      "metadata": {
        "id": "1d215cdf"
      },
      "source": [
        "Another way we can achieve the same result is through the when function. One\n",
        "advantage of using this function is you don’t have to define the output data type. This\n",
        "is handy for quick and dirty operations. Let’s recreate the preceding columns using the\n",
        "when function."
      ]
    },
    {
      "cell_type": "code",
      "execution_count": null,
      "id": "b2736cdd",
      "metadata": {
        "id": "b2736cdd",
        "outputId": "ca504474-f9ad-477c-e6d1-b55ac82620e5"
      },
      "outputs": [
        {
          "name": "stdout",
          "output_type": "stream",
          "text": [
            "+------+------+-----------+----------+--------+\n",
            "|  Open| Close|     Volume|Volume_cat|Open_cat|\n",
            "+------+------+-----------+----------+--------+\n",
            "|127.49|127.83|  6.31524E7|       Big|     Mid|\n",
            "|127.63|128.72|  4.48917E7|     Small|     Mid|\n",
            "|128.48|128.45|  3.73624E7|     Small|     Mid|\n",
            "|128.62| 129.5|  4.89484E7|    Medium|     Mid|\n",
            "|130.02| 133.0|7.0974096E7|       Big|     Mid|\n",
            "|132.94|132.17|6.9228096E7|       Big|     Mid|\n",
            "|131.56|128.79|7.4711696E7|       Big|     Mid|\n",
            "|128.79|130.42|9.1287504E7|       Big|     Mid|\n",
            "| 130.0|128.46|  6.20148E7|       Big|     Mid|\n",
            "|129.25|129.09|  4.80967E7|     Small|     Mid|\n",
            "+------+------+-----------+----------+--------+\n",
            "only showing top 10 rows\n",
            "\n"
          ]
        }
      ],
      "source": [
        "# def new_cols(Volume,Open):\n",
        "#  if Volume<48948400: Volume_cat='Small'\n",
        "#  elif Volume<58948400: Volume_cat='Medium'\n",
        "#  else: Volume_cat='Big'\n",
        "#  if Open<3: Open_cat='Low'\n",
        "#  elif Open<5: Open_cat='Mid'\n",
        "#  else: Open_cat='High'\n",
        "#  return Volume_cat,Open_cat\n",
        "# In order to comment on multiple lines at once in Jupyter Notebook,\n",
        "# you have to select the required lines and then press the Ctrl + /\n",
        "df_with_newcols = df_temp.select('Open','Close','Volume').\\\n",
        "withColumn('Volume_cat', when(df_temp['Volume']<48948400,'Small').\\\n",
        "when(df_temp['Volume']<58948400,'Medium').otherwise('Big')).\\\n",
        "withColumn('Open_cat', when(df_temp['Open']<120,'Low').\n",
        "when(df_temp['Open']<135,'Mid').otherwise('High'))\n",
        "df_with_newcols.show(10)"
      ]
    },
    {
      "cell_type": "markdown",
      "id": "346700f8",
      "metadata": {
        "id": "346700f8"
      },
      "source": [
        "# Deleting and Renaming Columns"
      ]
    },
    {
      "cell_type": "code",
      "execution_count": null,
      "id": "9e9aab24",
      "metadata": {
        "id": "9e9aab24",
        "outputId": "f7a5af37-24d3-45e8-b6df-346274e157bc"
      },
      "outputs": [
        {
          "name": "stdout",
          "output_type": "stream",
          "text": [
            "+------+-----------+----------+--------+\n",
            "|  Open|     Volume|Volume_cat|Open_cat|\n",
            "+------+-----------+----------+--------+\n",
            "|127.49|  6.31524E7|       Big|     Mid|\n",
            "|127.63|  4.48917E7|     Small|     Mid|\n",
            "|128.48|  3.73624E7|     Small|     Mid|\n",
            "|128.62|  4.89484E7|    Medium|     Mid|\n",
            "|130.02|7.0974096E7|       Big|     Mid|\n",
            "|132.94|6.9228096E7|       Big|     Mid|\n",
            "|131.56|7.4711696E7|       Big|     Mid|\n",
            "|128.79|9.1287504E7|       Big|     Mid|\n",
            "| 130.0|  6.20148E7|       Big|     Mid|\n",
            "|129.25|  4.80967E7|     Small|     Mid|\n",
            "+------+-----------+----------+--------+\n",
            "only showing top 10 rows\n",
            "\n"
          ]
        }
      ],
      "source": [
        "# Using the drop function. to drop any column or columns\n",
        "columns_to_drop=['Close']\n",
        "df_with_newcols=df_with_newcols.drop(*columns_to_drop)\n",
        "df_with_newcols.show(10)"
      ]
    },
    {
      "cell_type": "code",
      "execution_count": null,
      "id": "8f2c37da",
      "metadata": {
        "id": "8f2c37da",
        "outputId": "7664fa38-0733-498e-ee06-1decd88a66fd"
      },
      "outputs": [
        {
          "name": "stdout",
          "output_type": "stream",
          "text": [
            "+------------+--------------+----------+--------+\n",
            "|Renamed_Open|Renamed_Volume|Volume_cat|Open_cat|\n",
            "+------------+--------------+----------+--------+\n",
            "|      127.49|     6.31524E7|       Big|     Mid|\n",
            "|      127.63|     4.48917E7|     Small|     Mid|\n",
            "|      128.48|     3.73624E7|     Small|     Mid|\n",
            "|      128.62|     4.89484E7|    Medium|     Mid|\n",
            "|      130.02|   7.0974096E7|       Big|     Mid|\n",
            "|      132.94|   6.9228096E7|       Big|     Mid|\n",
            "|      131.56|   7.4711696E7|       Big|     Mid|\n",
            "|      128.79|   9.1287504E7|       Big|     Mid|\n",
            "|       130.0|     6.20148E7|       Big|     Mid|\n",
            "|      129.25|     4.80967E7|     Small|     Mid|\n",
            "+------------+--------------+----------+--------+\n",
            "only showing top 10 rows\n",
            "\n"
          ]
        }
      ],
      "source": [
        "# Renaming can be done using\n",
        "# either the withColumnRenamed function or the alias function.\n",
        "df_with_newcols = df_with_newcols\\\n",
        ".withColumnRenamed('Open','Renamed_Open')\\\n",
        ".withColumnRenamed('Volume','Renamed_Volume')\n",
        "df_with_newcols.show(10)\n"
      ]
    },
    {
      "cell_type": "code",
      "execution_count": null,
      "id": "e76b13e7",
      "metadata": {
        "id": "e76b13e7",
        "outputId": "2b49df00-d91e-4405-9687-b046320aaad8"
      },
      "outputs": [
        {
          "name": "stdout",
          "output_type": "stream",
          "text": [
            "+-----------+---------+\n",
            "|Volume_cat1|Open_cat1|\n",
            "+-----------+---------+\n",
            "|        Big|      Mid|\n",
            "|      Small|      Mid|\n",
            "|      Small|      Mid|\n",
            "|     Medium|      Mid|\n",
            "|        Big|      Mid|\n",
            "|        Big|      Mid|\n",
            "|        Big|      Mid|\n",
            "|        Big|      Mid|\n",
            "|        Big|      Mid|\n",
            "|      Small|      Mid|\n",
            "+-----------+---------+\n",
            "only showing top 10 rows\n",
            "\n"
          ]
        }
      ],
      "source": [
        "# To change multiple column names,try the following command:\n",
        "# Define all the variable changes in the list\n",
        "new_names = [('Volume_cat','Volume_cat1'),('Open_cat','Open_cat1')]\n",
        "# Applying the alias function\n",
        "df_with_newcols_renamed = df_with_newcols\\\n",
        ".select(list(map(lambda old,new:col(old).alias(new),*zip(*new_names))))\n",
        "df_with_newcols_renamed.show(10)"
      ]
    },
    {
      "cell_type": "markdown",
      "id": "4137785e",
      "metadata": {
        "id": "4137785e"
      },
      "source": [
        "# 5.2 Utility Functions and Visualizations"
      ]
    },
    {
      "cell_type": "code",
      "execution_count": null,
      "id": "cb316c4a",
      "metadata": {
        "id": "cb316c4a",
        "outputId": "e72ddf9d-bf2d-4f32-eced-eec04ca3673c"
      },
      "outputs": [
        {
          "name": "stdout",
          "output_type": "stream",
          "text": [
            "+------------+--------------+----------+--------+---------------+\n",
            "|Renamed_Open|Renamed_Volume|Volume_cat|Open_cat|Open_Volume_Cat|\n",
            "+------------+--------------+----------+--------+---------------+\n",
            "|      127.49|     6.31524E7|       Big|     Mid|         BigMid|\n",
            "|      127.63|     4.48917E7|     Small|     Mid|       SmallMid|\n",
            "|      128.48|     3.73624E7|     Small|     Mid|       SmallMid|\n",
            "|      128.62|     4.89484E7|    Medium|     Mid|      MediumMid|\n",
            "|      130.02|   7.0974096E7|       Big|     Mid|         BigMid|\n",
            "|      132.94|   6.9228096E7|       Big|     Mid|         BigMid|\n",
            "|      131.56|   7.4711696E7|       Big|     Mid|         BigMid|\n",
            "|      128.79|   9.1287504E7|       Big|     Mid|         BigMid|\n",
            "|       130.0|     6.20148E7|       Big|     Mid|         BigMid|\n",
            "|      129.25|     4.80967E7|     Small|     Mid|       SmallMid|\n",
            "+------------+--------------+----------+--------+---------------+\n",
            "only showing top 10 rows\n",
            "\n"
          ]
        }
      ],
      "source": [
        "# To concatenate the values of budget_cat and ratings together into a\n",
        "# single column, we can do so using the concat function. On top of this, let’s change the\n",
        "# case of the new column to lowercase and trim away any white spaces using the lower\n",
        "# and trim functions\n",
        "# Concatenating two variables\n",
        "df_with_newcols=df_with_newcols.\\\n",
        "withColumn('Open_Volume_Cat',concat(df_with_newcols.\\\n",
        "Volume_cat,df_with_newcols.Open_cat))\n",
        "df_with_newcols.show(10)"
      ]
    },
    {
      "cell_type": "markdown",
      "id": "aaf423ba",
      "metadata": {
        "id": "aaf423ba"
      },
      "source": [
        "# Registering DataFrames"
      ]
    },
    {
      "cell_type": "code",
      "execution_count": null,
      "id": "f0e2f8e1",
      "metadata": {
        "id": "f0e2f8e1",
        "outputId": "0a848ff7-4f0c-46b4-e361-27440ffba090"
      },
      "outputs": [
        {
          "name": "stderr",
          "output_type": "stream",
          "text": [
            "/home/user/anaconda3/lib/python3.11/site-packages/pyspark/sql/dataframe.py:329: FutureWarning: Deprecated in 2.0, use createOrReplaceTempView instead.\n",
            "  warnings.warn(\"Deprecated in 2.0, use createOrReplaceTempView instead.\", FutureWarning)\n"
          ]
        },
        {
          "name": "stdout",
          "output_type": "stream",
          "text": [
            "+----------+-----------------+\n",
            "|Volume_cat|count(Volume_cat)|\n",
            "+----------+-----------------+\n",
            "|    Medium|               62|\n",
            "|     Small|              364|\n",
            "|       Big|               80|\n",
            "+----------+-----------------+\n",
            "\n"
          ]
        }
      ],
      "source": [
        "# Registering temporary table\n",
        "df_with_newcols.registerTempTable('temp_data')\n",
        "# Applying the function to show the results\n",
        "spark.sql('select Volume_cat, count(Volume_cat)\\\n",
        "from temp_data group by Volume_cat').show(10)"
      ]
    },
    {
      "cell_type": "markdown",
      "id": "f39c7a2e",
      "metadata": {
        "id": "f39c7a2e"
      },
      "source": [
        "# Window Functions"
      ]
    },
    {
      "cell_type": "code",
      "execution_count": null,
      "id": "dd3564da",
      "metadata": {
        "id": "dd3564da"
      },
      "outputs": [],
      "source": [
        "# Importing the window functions\n",
        "from pyspark.sql.window import *\n",
        "# Step 1: Filtering the missing values\n",
        "df_with_newcols=df_with_newcols.filter( (df_with_newcols['Renamed_Open'].\n",
        "isNotNull()) & (~isnan(df_with_newcols['Renamed_Open'])) )"
      ]
    },
    {
      "cell_type": "code",
      "execution_count": null,
      "id": "b72d540f",
      "metadata": {
        "id": "b72d540f",
        "outputId": "92c7f6d8-d5a7-4b9d-8feb-0b627bc49392"
      },
      "outputs": [
        {
          "name": "stderr",
          "output_type": "stream",
          "text": [
            "23/12/19 15:43:21 WARN WindowExec: No Partition Defined for Window operation! Moving all data to a single partition, this can cause serious performance degradation.\n",
            "23/12/19 15:43:21 WARN WindowExec: No Partition Defined for Window operation! Moving all data to a single partition, this can cause serious performance degradation.\n",
            "23/12/19 15:43:21 WARN WindowExec: No Partition Defined for Window operation! Moving all data to a single partition, this can cause serious performance degradation.\n",
            "23/12/19 15:43:21 WARN WindowExec: No Partition Defined for Window operation! Moving all data to a single partition, this can cause serious performance degradation.\n",
            "23/12/19 15:43:21 WARN WindowExec: No Partition Defined for Window operation! Moving all data to a single partition, this can cause serious performance degradation.\n"
          ]
        },
        {
          "name": "stdout",
          "output_type": "stream",
          "text": [
            "+------------+--------------+----------+-----------+\n",
            "|Renamed_Open|Renamed_Volume|Volume_cat|decile_rank|\n",
            "+------------+--------------+----------+-----------+\n",
            "|       94.87|  1.62206304E8|       Big|          1|\n",
            "|       96.04|  1.33369696E8|       Big|          1|\n",
            "|      110.43|  1.28275504E8|       Big|          1|\n",
            "|      117.42|    1.241386E8|       Big|          1|\n",
            "|      134.46|     1.18924E8|       Big|          1|\n",
            "|      121.99|    1.154506E8|       Big|          1|\n",
            "|        96.0|  1.14602096E8|       Big|          1|\n",
            "|      127.03|     1.11985E8|       Big|          1|\n",
            "|      108.73|  1.10888704E8|       Big|          1|\n",
            "|      111.11|    1.036016E8|       Big|          1|\n",
            "+------------+--------------+----------+-----------+\n",
            "only showing top 10 rows\n",
            "\n"
          ]
        }
      ],
      "source": [
        "# Step 2: Applying the window functions for calculating deciles\n",
        "df_with_newcols = df_with_newcols.select(\"Renamed_Open\",\"Renamed_Volume\",\"Volume_cat\",\n",
        "ntile(10).over(Window.partitionBy().orderBy(df_with_newcols['Renamed_Volume'].\n",
        "desc())).alias(\"decile_rank\"))\n",
        "df_with_newcols.show(10)"
      ]
    },
    {
      "cell_type": "code",
      "execution_count": null,
      "id": "b0e87cfa",
      "metadata": {
        "id": "b0e87cfa",
        "outputId": "2e7cb3bf-787e-4d95-bb59-a50e45df4f01"
      },
      "outputs": [
        {
          "name": "stderr",
          "output_type": "stream",
          "text": [
            "23/12/19 15:43:22 WARN WindowExec: No Partition Defined for Window operation! Moving all data to a single partition, this can cause serious performance degradation.\n",
            "23/12/19 15:43:22 WARN WindowExec: No Partition Defined for Window operation! Moving all data to a single partition, this can cause serious performance degradation.\n",
            "23/12/19 15:43:22 WARN WindowExec: No Partition Defined for Window operation! Moving all data to a single partition, this can cause serious performance degradation.\n",
            "23/12/19 15:43:22 WARN WindowExec: No Partition Defined for Window operation! Moving all data to a single partition, this can cause serious performance degradation.\n"
          ]
        },
        {
          "name": "stdout",
          "output_type": "stream",
          "text": [
            "+-----------+----------+------------+---------------------+\n",
            "|decile_rank|min_Volume|  max_Volume|count(Renamed_Volume)|\n",
            "+-----------+----------+------------+---------------------+\n",
            "|          1| 6.85016E7|1.62206304E8|                   51|\n",
            "|          2| 5.48436E7|   6.84574E7|                   51|\n",
            "|          3| 4.74457E7|   5.47169E7|                   51|\n",
            "|          4|  4.2885E7|   4.70997E7|                   51|\n",
            "|          5| 3.73572E7|   4.28032E7|                   51|\n",
            "|          6| 3.41439E7|   3.73562E7|                   51|\n",
            "|          7| 3.16663E7|   3.40393E7|                   50|\n",
            "|          8| 2.77663E7|   3.15619E7|                   50|\n",
            "|          9| 2.51396E7|   2.77337E7|                   50|\n",
            "|         10| 1.14759E7|   2.50862E7|                   50|\n",
            "+-----------+----------+------------+---------------------+\n",
            "\n"
          ]
        }
      ],
      "source": [
        "# Step 3:Dispalying the values\n",
        "df_with_newcols.groupby(\"decile_rank\")\\\n",
        ".agg(min('Renamed_Volume').alias('min_Volume'),max('Renamed_Volume')\\\n",
        ".alias('max_Volume'),count('Renamed_Volume')).show()"
      ]
    },
    {
      "cell_type": "markdown",
      "id": "58cee82c",
      "metadata": {
        "id": "58cee82c"
      },
      "source": [
        "# Other Useful Functions"
      ]
    },
    {
      "cell_type": "code",
      "execution_count": null,
      "id": "eaeae94c",
      "metadata": {
        "id": "eaeae94c",
        "outputId": "b055f780-e390-4521-f47a-972190bd3180"
      },
      "outputs": [
        {
          "name": "stdout",
          "output_type": "stream",
          "text": [
            "+----------+----------+----------+----------+----------+---------+----------+-----------+-----------+-----------+----------+--------------------+\n",
            "|      Date|      Open|      High|       Low|     Close|   Volume|  Adjusted|         dn|       mavg|         up| direction|           Headlines|\n",
            "+----------+----------+----------+----------+----------+---------+----------+-----------+-----------+-----------+----------+--------------------+\n",
            "|2015-02-17|127.489998|128.880005|126.919998|127.830002| 63152400|122.905254|106.7410523|117.9276669|129.1142814|Increasing|A group of journa...|\n",
            "|2015-02-18|127.629997|128.779999|127.449997|128.720001| 44891700|123.760965| 107.842423|118.9403335|130.0382439|Increasing|Playboy Enterpris...|\n",
            "|2015-02-19|128.479996|129.029999|128.330002|128.449997| 37362400|123.501363|108.8942449|119.8891668|130.8840887|Decreasing|Hardware and soft...|\n",
            "|2015-02-20|128.619995|     129.5|128.050003|     129.5| 48948400|124.510914|109.7854494|120.7635001|131.7415509|Increasing|GMO Internet, a l...|\n",
            "|2015-02-23|130.020004|       133|129.660004|       133| 70974100|127.876074|110.3725162|121.7201668|133.0678174|Increasing|A Tokyo-based rea...|\n",
            "|2015-02-24|132.940002|133.600006|131.169998|132.169998| 69228100|127.078049|111.0948689|122.6648335|134.2347981|Decreasing|Two California De...|\n",
            "|2015-02-25|131.559998|131.600006|128.149994|128.789993| 74711700|123.828261|113.2119183|123.6296667|134.0474151|Decreasing|WeMakePrice, bett...|\n",
            "|2015-02-26|128.789993|130.869995|126.610001|130.419998| 91287500|125.395469|114.1652991|124.2823333|134.3993674|Increasing|Arizona just adva...|\n",
            "|2015-02-27|       130|130.570007|128.240005|128.460007| 62014800|123.510987|114.9668484|       NULL|134.7184854|Decreasing|Chilean cryptocur...|\n",
            "|2015-03-02|    129.25|130.279999|128.300003|129.089996| 48096700|124.116706|115.8770904|125.4036668|134.9302432|Decreasing|TransferGo, a Lon...|\n",
            "|2015-03-03|128.960007|129.520004|128.089996|129.360001| 37816300|124.376308|116.9535132|125.9551669|134.9568205|Increasing|Bitcoin cash has ...|\n",
            "|2015-03-04|129.100006|129.559998|128.320007|128.539993| 31666300|123.587892|118.0874253|126.4730002|134.8585751|Decreasing|Cryptocurrencies ...|\n",
            "|2015-03-05|128.580002|    128.75|125.760002|126.410004| 56517100|121.539962|119.1048311|       NULL|134.5925029|Decreasing|Playboy Enterpris...|\n",
            "|2015-03-06|128.399994|129.369995|126.260002|126.599998| 72842100|121.722637| 120.190797|127.2288335|  134.26687|Decreasing|Reddit no longer ...|\n",
            "|2015-03-09|127.959999|129.570007|125.059998|127.139999| 88528500|122.241834|121.6289771|       NULL|133.6333568|Decreasing|Barely two months...|\n",
            "|2015-03-10|126.410004|127.220001|123.800003|124.510002| 68856600| 119.71316|123.1164763|127.9235004|132.7305246|Decreasing|The Bitcoin price...|\n",
            "|2015-03-11|    124.75|124.769997|122.110001|122.239998| 68939000|117.530609| 123.592756|128.0033337|132.4139113|Decreasing|The adhesion of t...|\n",
            "|2015-03-12|122.309998|124.900002|121.629997|124.449997| 48362700|119.655466|123.4894559|127.9813337|132.4732114|Increasing|The worldâ€™s big...|\n",
            "|2015-03-13|124.400002|125.400002|122.580002|123.589996| 51827300|118.828598| 123.045606|       NULL|132.6523946|Decreasing|While not as wide...|\n",
            "|2015-03-16|123.879997|124.949997|122.870003|124.949997| 35874300|120.136203|122.6967016|127.7283335|132.7599655|Increasing|Computer hardware...|\n",
            "|2015-03-17|125.900002|    127.32|125.650002|127.040001| 51023100|122.145688| 122.616033|127.6680002|132.7199674|Increasing|Digital payments ...|\n",
            "|2015-03-18|       127|129.160004|126.370003|128.470001| 65270900|123.520597|122.6064498|       NULL|132.6978842|Increasing|Bitbond, an onlin...|\n",
            "|2015-03-19|    128.75|    129.25|127.400002|     127.5| 45809500|122.587966|122.5939029|127.6245004|132.6550979|Decreasing|Yamada Denki, one...|\n",
            "|2015-03-20|    128.25|128.399994|125.160004|125.900002| 68695100|121.049608|122.4865925|127.4980004|132.5094083|Decreasing|The Maltese Parli...|\n",
            "|2015-03-23|127.120003|127.849998|126.519997|127.209999| 37709700|122.309137|122.6741703|127.2633335|131.8524968|Increasing|Zac Cheah, the CE...|\n",
            "|2015-03-24|127.230003|128.039993|126.559998|126.690002| 32842300|121.809174|123.0410183|127.0025001|130.9639818|Decreasing|Dallas Mavericks ...|\n",
            "|2015-03-25|126.540001|    126.82|123.379997|123.379997| 51655200|118.626689|122.8276392|126.7531667|130.6786943|Decreasing|The real estate i...|\n",
            "|2015-03-26|122.760002|124.879997|122.599998|124.239998| 47572900|119.453558|122.5538523|126.4835001|130.4131478|Increasing|\"The biggest name...|\n",
            "|2015-03-27|    124.57|124.699997|122.910004|    123.25| 39546200|  118.5017|122.2826504|       NULL|130.1373491|Decreasing|The Bunny Ranch, ...|\n",
            "|2015-03-30|124.050003|126.400002|       124|126.370003| 47099700|121.501502| 122.346906|126.0283332|129.7097604|Increasing|Starting March 5t...|\n",
            "|2015-03-31|126.089996|126.489998|124.360001|    124.43| 42090600| 119.63624| 122.395242|125.8334998|129.2717577|Decreasing|Coinbase Commerce...|\n",
            "|2015-04-01|    124.82|125.120003|123.099998|    124.25| 40621400|119.463174|122.3761274|125.6009999|128.8258723|Decreasing|As an emerging te...|\n",
            "|2015-04-02|125.029999|125.559998|124.190002|    125.32| 32220100|120.491951|122.3330336|       NULL| 128.673966|Increasing|BitConnect, a onc...|\n",
            "|2015-04-06|124.470001|127.510002|124.330002|127.349998| 37194000|122.443743| 122.374816|125.4528332|128.5308505|Increasing|StartEngine, a U....|\n",
            "|2015-04-07|127.639999|128.119995|125.980003|126.010002| 35012300|121.155371|122.4030622|125.4251665|128.4472708|Decreasing|Brisbane airport ...|\n",
            "|2015-04-08|125.849998|126.400002|124.970001|125.599998| 37329200|120.761163|122.4277133|125.4491664|128.4706195|Decreasing|Millionaire inves...|\n",
            "|2015-04-09|125.849998|126.580002|124.660004|126.559998| 32484000|121.684177|122.7775359|       NULL|128.4101305|Increasing|SME owners in the...|\n",
            "|2015-04-10|125.949997|127.209999|125.260002|127.099998| 40188000|122.203374|123.0398914|125.7369999|128.4341085|Increasing|The government of...|\n",
            "|2015-04-13|128.369995|128.570007|126.610001|126.849998| 36365100|121.963006| 123.272819|125.9113334|128.5498477|Decreasing|The bitcoin price...|\n",
            "|2015-04-14|       127|127.290001|125.910004|126.300003| 25524600|121.434199| 123.487134|126.0235002|128.5598665|Decreasing|\"Digital payments...|\n",
            "|2015-04-15|126.410004|127.129997|126.010002|126.779999| 28970400|121.895703|123.4871301|126.0220001|128.5568702|Increasing|The use case for ...|\n",
            "|2015-04-16|126.279999|127.099998|126.110001|126.169998| 28369000|121.309203|123.5664037|       NULL|128.3235962|Decreasing|A Toronto man is ...|\n",
            "|2015-04-17|125.550003|126.139999|124.459999|    124.75| 51957000|119.943911|123.6022692|125.7983332|127.9943973|Decreasing|Alessandro Santos...|\n",
            "|2015-04-20|    125.57|128.119995|125.169998|127.599998| 47054300|122.684112|123.5867451|125.8221664|128.0575877|Increasing|Expedia, the onli...|\n",
            "|2015-04-21|128.100006|128.199997|126.669998|126.910004| 32435100|122.020699|123.5817266|125.8254998| 128.069273|Decreasing|Crypto exchange C...|\n",
            "|2015-04-22|126.989998|128.869995|    126.32|128.619995| 37654500|123.664812|123.5019782|125.8674998|128.2330214|Increasing|Ethics officials ...|\n",
            "|2015-04-23|128.300003|130.419998|128.139999|129.669998| 45770900|124.674363|123.3716821|126.1116665|128.8516508|Increasing|Liberland, a self...|\n",
            "|2015-04-24|130.490005|130.630005|129.229996|130.279999| 44525900|125.260863|123.3764705|126.4186666|129.4608626|Decreasing|Upstart MMA promo...|\n",
            "|2015-04-27|132.309998|133.130005|131.149994|132.649994| 96954200|127.539552| 123.128271|126.8531664|130.5780619|Increasing|A leading Wall St...|\n",
            "|2015-04-28|134.460007|134.539993|129.570007|130.559998|118924000|125.530074|122.9533691|127.1514997|131.3496302|Decreasing|Aston Plaza & Res...|\n",
            "|2015-04-29|130.160004|131.589996|128.300003|128.639999| 63386100|123.684046| 123.165847| 127.372333| 131.578819|Decreasing|One of Silicon Va...|\n",
            "|2015-04-30|128.639999|128.639999|124.580002|125.150002| 83195400|120.328503|123.4832179|127.4706663|131.4581147|Decreasing|\"Andrew Yang, a \"...|\n",
            "|2015-05-01|126.099998|130.130005|125.300003|128.949997| 58512600|  123.9821|123.7928685|127.6258331|131.4587977|Increasing|Popular Twitch st...|\n",
            "|2015-05-04|     129.5|130.570007|128.259995|128.699997| 50988300|123.741732|123.9186426| 127.764833|131.6110235|Decreasing|With the lowest a...|\n",
            "|2015-05-05|128.149994|128.449997|125.779999|125.800003| 49271400|120.953462|  123.91582|127.7634997|131.6111794|Decreasing|From bond issuanc...|\n",
            "|2015-05-06|126.559998|    126.75|123.360001|125.010002| 72141000|120.193897|123.8088193|127.7326664|131.6565135|Decreasing|Australian beach ...|\n",
            "|2015-05-07|124.769997|126.080002|124.019997|125.260002| 43940900| 120.93733|123.6785663|127.6919997| 131.705433|Increasing|Slow transaction ...|\n",
            "|2015-05-08|    126.68|127.620003|126.110001|127.620003| 55550400|123.215888|123.7345408|127.7216665|131.7087922|Increasing|The price of bitc...|\n",
            "|2015-05-11|127.389999|127.559998|125.629997|    126.32| 42035800|121.960747|123.6599205|       NULL|131.6994121|Decreasing|Contrary to repor...|\n",
            "|2015-05-12|125.599998|126.879997|    124.82|125.870003| 48160000|121.526279|123.5804905|127.6474995|131.7145084|Increasing|\"Yeogi Eottae, a ...|\n",
            "|2015-05-13|126.150002|127.190002|125.870003|126.010002| 34694200|121.661447|123.5504423| 127.633333|131.7162236|Decreasing|Bitcoin mining fi...|\n",
            "|2015-05-14|127.410004|128.949997|127.160004|128.949997| 45203500|124.499984|123.6706007|127.7279997|131.7853986|Increasing|Major Cineplex, T...|\n",
            "|2015-05-15|129.070007|129.490005|128.210007|128.770004| 38208000|124.326203|124.0144574|127.9133333|131.8122092|Decreasing|Four new condos i...|\n",
            "|2015-05-18|128.380005|130.720001|128.360001|130.190002| 50882900|125.697198| 124.100497|128.0530002|132.0055033|Increasing|U. S. taxpayers a...|\n",
            "|2015-05-19|130.690002|130.880005|129.639999|130.070007| 44633200|125.581344|124.1588765|128.1998337|132.2407909|Decreasing|Cryptocurrencies ...|\n",
            "|2015-05-20|       130|130.979996|129.339996|130.059998| 36454900|125.571679|124.1850087|128.3093337|132.4336587|Increasing|Missouri Republic...|\n",
            "|2015-05-21|130.070007|131.630005|129.830002|131.389999| 39730400|126.855783|124.1273816|128.3863339|132.6452861|Increasing|Venezuelaâ€™s oil...|\n",
            "|2015-05-22|131.600006|132.970001|131.399994|132.539993| 45596000|127.966091|123.9598963| 128.499167|133.0384377|Increasing|In the early hour...|\n",
            "|2015-05-26|132.600006|132.910004|129.119995|129.619995| 70697600|125.146861|124.1087609| 128.411167|132.7135731|Decreasing|Key PointsBitcoin...|\n",
            "|2015-05-27|130.339996|132.259995|130.050003|132.039993| 45833200|127.483346|124.1188009|128.4058336|132.6928663|Increasing|There are those w...|\n",
            "|2015-05-28|131.860001|131.949997|131.100006|131.779999| 30733300|127.232324|124.0226213|128.5108337| 132.999046|Decreasing|FOMO MomentsMarke...|\n",
            "|2015-05-29|131.229996|131.449997|129.899994|130.279999| 50884500|125.784088| 124.300709|128.7318334|133.1629579|Decreasing|FOMO MomentsMarke...|\n",
            "|2015-06-01|130.279999|131.389999|130.050003|130.539993| 32112800| 126.03511|124.3594994|128.8584999|133.3575004|Increasing|FOMO MomentsMarke...|\n",
            "|2015-06-02|129.860001|130.660004|129.320007|129.960007| 33667600|125.475139|124.3747459|128.8986669|133.4225879|Increasing|Several things ha...|\n",
            "|2015-06-03|130.660004|130.940002|129.899994|130.119995| 30889400|125.629606|124.6367699|129.0808335| 133.524897|Decreasing|FOMO MomentsCrypt...|\n",
            "|2015-06-04|129.580002|130.580002|128.910004|129.360001| 38450100|124.895839|125.2683798|129.3096669|133.3509539|Decreasing|FOMO MomentsThe t...|\n",
            "|2015-06-05|     129.5|129.690002|128.360001|128.649994| 35626800|124.210334|125.9332746|129.4986668| 133.064059|Decreasing|FOMO MomentsMarke...|\n",
            "|2015-06-08|128.899994|129.210007|126.830002|127.800003| 52674800|123.389676|126.0685551|129.5401669|133.0117786|Decreasing|FOMO MomentsAltco...|\n",
            "|2015-06-09|126.699997|128.080002|125.620003|127.419998| 56075400|123.022785|126.1824915|129.5670003|132.9515092|Increasing|Litecoin has alwa...|\n",
            "|2015-06-10|127.919998|129.339996|127.849998|128.880005| 39087300|124.432408|126.7463818| 129.708667|132.6709521|Increasing|Cryptocurrencies ...|\n",
            "|2015-06-11|129.179993|130.179993|128.479996|128.589996| 35390900|124.152407|127.2892578|    129.845|132.4007421|Decreasing|FOMO MomentsCrypt...|\n",
            "|2015-06-12|128.190002|128.330002|127.110001|127.169998| 36886200|122.781413| 127.131001|129.8041667|132.4773323|Decreasing|TRON has complete...|\n",
            "|2015-06-15|126.099998|127.239998|125.709999|126.919998| 43988900| 122.54004|126.7060981|129.6941663|132.6822346|Increasing|The cryptocurrenc...|\n",
            "|2015-06-16|127.029999|127.849998|126.370003|127.599998| 31494100|123.196574|126.4016896|129.5699996|132.7383095|Increasing|FOMO MomentsBleed...|\n",
            "|2015-06-17|127.720001|127.879997|126.739998|127.300003| 32918100|122.906931|126.1238847|129.4254994| 132.727114|Decreasing|Chosun, South Kor...|\n",
            "|2015-06-18|127.230003|128.309998|127.220001|127.879997| 35407200| 123.46691|125.9515598|129.3093328|132.6671058|Increasing|Manipulation in t...|\n",
            "|2015-06-19|127.709999|    127.82|126.400002|126.599998| 54716900|122.231083|125.6885656|129.1088327|132.5290998|Decreasing|Interesting times...|\n",
            "|2015-06-22|127.489998|128.059998|127.080002|127.610001| 34039300|123.206231|125.7264205|128.8728329|132.0192453|Increasing|The IOTA project ...|\n",
            "|2015-06-23|127.480003|127.610001|126.879997|127.029999| 30268900|122.646244|125.5733485|128.7039996|131.8346507|Decreasing|As the technology...|\n",
            "|2015-06-24|127.209999|129.800003|127.120003|128.110001| 55280900|123.688976|125.6811976|128.5486666|131.4161355|Increasing|FOMO MomentsRed d...|\n",
            "|2015-06-25|128.860001|129.199997|     127.5|     127.5| 31938100|123.100026|125.8677152|128.3714998|130.8752844|Decreasing|One of the larges...|\n",
            "|2015-06-26|127.669998|127.989998|126.510002|    126.75| 44066800|122.375908|125.8452624|   128.1985|130.5517375|Decreasing|FOMO MomentsMarke...|\n",
            "|2015-06-29|125.459999|126.470001|124.480003|124.529999| 49161400|120.232518|125.5007067|127.9235001|130.3462935|Decreasing|Verge has announc...|\n",
            "|2015-06-30|    125.57|126.120003|124.860001|    125.43| 44370700|121.101461|125.2434909|127.6979999|130.1525088|Decreasing|U. S. dollar back...|\n",
            "|2015-07-01|126.900002|126.940002|125.989998|126.599998| 30238800|122.231083| 125.319636|   127.5075|129.6953639|Decreasing|FOMO MomentsCrypt...|\n",
            "|2015-07-02|    126.43|126.690002|125.769997|126.440002| 27211000|122.076609|125.3221027|127.3416666|129.3612304|Increasing|FOMO MomentsMarke...|\n",
            "|2015-07-06|124.940002|126.230003|124.849998|       126| 28060400| 121.65179| 125.172968|127.1813333|129.1896986|Increasing|Various countries...|\n",
            "|2015-07-07|125.889999|126.150002|123.769997|125.690002| 46946800|121.352491|124.8939059|127.0441664| 129.194427|Decreasing|Ripple is â€˜very...|\n",
            "|2015-07-08|124.480003|124.639999|122.540001|    122.57| 60761600|118.340158|124.1418974|126.8546664|129.5674354|Decreasing|FOMO MomentsCrypt...|\n",
            "|2015-07-09|123.849998|124.059998|119.220001|    120.07| 77821600|115.926432|122.9127426|126.4759997|130.0392568|Decreasing|FOMO MomentsCrypt...|\n",
            "|2015-07-10|121.940002|123.849998|121.209999|123.279999| 61354500|119.025655|122.4632754|126.1608332|129.8583911|Increasing|FOMO MomentsMarke...|\n",
            "|2015-07-13|125.029999|125.760002|    124.32|125.660004| 41440500|121.323527|122.3846331|126.0463333|129.7080335|Increasing|\"The CEO of Wanch...|\n",
            "|2015-07-14|126.040001|126.370003|125.040001|125.610001| 31768100| 121.27525| 122.343664|125.9988335|129.6540029|Decreasing|Interest in crypt...|\n",
            "|2015-07-15|125.720001|127.150002|125.580002|    126.82| 33649200|122.443492|122.3439159|125.9610002|129.5780846|Increasing|Earlier today, on...|\n",
            "|2015-07-16|127.739998|128.570007|127.349998|128.509995| 36222400|124.075166|122.3059902|126.0028336| 129.699677|Increasing|FOMO MomentsHappy...|\n",
            "|2015-07-17|129.080002|129.619995|128.309998|129.619995| 46164700|125.146861|122.1959647|126.0718335|129.9477023|Increasing|Itâ€™s always goo...|\n",
            "|2015-07-20|130.970001|132.970001|130.699997|132.070007| 58900200|127.512324|121.6892041|126.3205002|130.9517963|Increasing|The Winklevoss tw...|\n",
            "|2015-07-21|132.850006|132.919998|130.320007|    130.75| 76756400| 126.23787|121.4079709|126.5078336|131.6076963|Decreasing|Key HighlightsETH...|\n",
            "|2015-07-22|121.989998|     125.5|121.989998|125.220001|115450600|120.898709|121.1778138|       NULL|131.5441868|Increasing|FOMO MomentsCurre...|\n",
            "|2015-07-23|126.199997|127.089996|125.059998|125.160004| 50999500|120.840782|121.1251692|126.2323335|131.3394978|Decreasing|Legendary MMA fig...|\n",
            "|2015-07-24|    125.32|125.739998|123.900002|     124.5| 42162300|120.203555| 120.989315|126.0646669|131.1400187|Decreasing|Key PointsBitcoin...|\n",
            "|2015-07-27|123.089996|123.610001|122.120003|122.769997| 44455500|118.533253|120.6120011|       NULL|131.0923327|Decreasing|Just weeks after ...|\n",
            "|2015-07-28|123.379997|123.910004|122.550003|123.379997| 33618100|119.122203|120.4054683|125.7581669|131.1108655|Increasing|Japan leads the c...|\n",
            "|2015-07-29|123.150002|     123.5|122.269997|122.989998| 37011700|118.745662|120.1369622|125.6306668|131.1243713|Decreasing|As the US Securit...|\n",
            "|2015-07-30|    122.32|    122.57|121.709999|122.370003| 33628300|118.147063|119.7438845|125.4160002|131.0881158|Increasing|FOMO MomentsThe r...|\n",
            "|2015-07-31|122.599998|122.639999|120.910004|121.300003| 42885000|117.113989|119.2924998|125.1818336|131.0711674|Decreasing|One of the worldâ...|\n",
            "|2015-08-03|     121.5|    122.57|117.519997|118.440002| 69976000|114.352685|118.4943027|124.8726669|131.2510311|Decreasing|FOMO MomentsCurre...|\n",
            "|2015-08-04|117.419998|117.699997|    113.25|114.639999|124138600|110.683819|116.7313042|124.3723335|132.0133628|Decreasing|BitPay is the wor...|\n",
            "|2015-08-05|112.949997|117.440002|112.099998|115.400002| 99312600|111.417594|115.2932316|123.9588335|132.6244354|Increasing|Satoshi Nakamotoâ...|\n",
            "|2015-08-06|115.970001|     116.5|114.120003|115.129997| 52903000| 111.66005|114.2686043|123.6655002|133.0623961|Decreasing|The worldâ€™s lar...|\n",
            "|2015-08-07|114.580002|    116.25|     114.5|115.519997| 38670400|112.038295|113.2383284|123.2976669|133.3570053|Increasing|Key PointsBitcoin...|\n",
            "|2015-08-10|116.529999|119.989998|116.529999|119.720001| 54951600|116.111714|112.7672569|       NULL|133.1780766|Increasing|Line, the most wi...|\n",
            "|2015-08-11|117.809998|    118.18|113.330002|113.489998| 97082800|110.069479|111.7495121|    122.439|133.1284878|Decreasing|Komodo Platform, ...|\n",
            "|2015-08-12|112.529999|115.419998|109.629997|115.239998|101217500|111.766735|110.5837964|121.7846665|132.9855365|Increasing|Augur, a cryptocu...|\n",
            "|2015-08-13|116.040001|116.400002|114.540001|115.150002| 48535800|111.679451|110.0107495|121.1456666|132.2805836|Decreasing|It has been a rat...|\n",
            "|2015-08-14|    114.32|116.309998|114.010002|115.959999| 42929500|112.465036|109.7007656|120.4578334|131.2149012|Increasing|FOMO MomentsAnoth...|\n",
            "|2015-08-17|116.040001|117.650002|     115.5|117.160004| 40884700|113.628873|110.2193367|119.7006668|129.1819968|Increasing|Cryptocurrencies ...|\n",
            "|2015-08-18|    116.43|117.440002|116.010002|     116.5| 34560700|112.988761| 111.057582|118.9666667|126.8757514|Increasing|FOMO MomentsMarke...|\n",
            "|2015-08-19|116.099998|116.519997|    114.68|115.010002| 47445700|111.543671|110.8596081|118.5250001| 126.190392|Decreasing|A new industry re...|\n",
            "|2015-08-20|114.080002|114.349998|111.629997|112.650002| 68501600|  109.2548|110.6016943|117.8803334|125.1589724|Decreasing|As reported earli...|\n",
            "|2015-08-21|    110.43|111.900002|105.650002|105.760002|128275500|102.572461|109.2092545|117.0331668|124.8570791|Decreasing|The Ethereum netw...|\n",
            "|2015-08-24| 94.870003|108.800003|        92|103.120003|162206300|100.012029|105.9911026|115.9568336|125.9225645|Increasing|US based provider...|\n",
            "|2015-08-25|111.110001|111.110001|     103.5|103.739998|103601600|100.613338|104.8512275|115.0986668|125.3461062|Decreasing|Nebula, a cryptoc...|\n",
            "|2015-08-26|107.089996|109.889999|105.050003|109.690002| 96774600|106.384013|104.3580548| 114.363167|124.3682792|Increasing|FOMO MomentsCurre...|\n",
            "|2015-08-27|112.230003|113.239998|110.019997|112.919998| 84616100|109.516659|104.4853754|113.8553335|123.2252916|Increasing|FOMO MomentsCrypt...|\n",
            "|2015-08-28|112.169998|113.309998|111.540001|113.290001| 53164400| 109.87551|104.7374169|113.4101667|122.0829165|Increasing|Robinhood Crypto ...|\n",
            "|2015-08-31|112.029999|114.529999|       112|112.760002| 56229300|109.361485|104.8807642|113.0895001| 121.298236|Increasing|Privacy plays an ...|\n",
            "|2015-09-01|110.150002|111.879997|107.360001|107.720001| 76845900|104.473386|104.4437543|112.7790001| 121.114246|Decreasing|FOMO MomentsAs we...|\n",
            "|2015-09-02|110.230003|112.339996|109.129997|112.339996| 61888800|108.954138|104.2974032|112.5934999|120.8895966|Increasing|The rising popula...|\n",
            "|2015-09-03|112.489998|112.779999|110.040001|110.370003| 53233900|107.043519|104.1557511|112.3841666|120.6125821|Decreasing|FOMO MomentsThe b...|\n",
            "|2015-09-04|108.970001|110.449997|108.510002|109.269997| 49996300|105.976666|103.8818508|   112.0835|120.2851491|Increasing|Nano, the cryptoc...|\n",
            "|2015-09-08|    111.75|112.559998|    110.32|112.309998| 54843600|108.925043|104.1221378|111.7326666|119.3431954|Increasing|FOMO MomentsThing...|\n",
            "|2015-09-09|113.760002|114.019997|109.769997|110.150002| 85010800|106.830148|104.0861412|111.5483332|119.0105251|Decreasing|Bithumb has annou...|\n",
            "|2015-09-10|110.269997|113.279999|109.900002|    112.57| 62892800|109.177209|104.0577891|111.4726667|118.8875442|Increasing|FOMO MomentsCrypt...|\n",
            "|2015-09-11|111.790001|114.209999|111.760002|114.209999| 49915500| 110.76778|104.1180015|111.3741666|118.6303316|Increasing|Verge, a cryptocu...|\n",
            "|2015-09-14|116.580002|116.889999|114.860001|115.309998| 58363400|111.834625|104.1011364|111.3871666|118.6731967|Decreasing|The use of crypto...|\n",
            "|2015-09-15|    115.93|116.529999|114.419998|116.279999| 43341200|112.775391|104.1890893|       NULL|118.4825768|Increasing|Venezuelaâ€™s Pet...|\n",
            "|2015-09-16|    116.25|116.540001|115.440002|116.410004| 37173500|112.901478|104.2372114|111.3098331|118.3824548|Increasing|While all eyes ar...|\n",
            "|2015-09-17|115.660004|116.489998|113.720001|113.919998| 64112600|110.486519|104.2767346|111.2751664|118.2735982|Decreasing|Today may well go...|\n",
            "|2015-09-18|112.209999|114.300003|111.870003|113.449997| 74285300|110.030684|104.2766727|111.2916665|118.3066603|Increasing|Love it or hate i...|\n",
            "|2015-09-21|113.669998|115.370003|113.660004|115.209999| 50222000| 111.73764| 104.666951|111.6404998|118.6140487|Increasing|FOMO MomentsCrypt...|\n",
            "|2015-09-22|113.379997|    114.18|112.519997|113.400002| 50346200|109.982195|107.1040188|112.2434997|117.3829807|Increasing|Cryptocurrencies ...|\n",
            "|2015-09-23|113.629997|114.720001|113.300003|    114.32| 35756700|110.874465|108.2882859|112.6433331|116.9983804|Increasing|Despite threats o...|\n",
            "|2015-09-24|    113.25|     115.5|112.370003|       115| 50219500|111.533971|109.0475652|112.9473331| 116.847101|Increasing|A lot of developm...|\n",
            "|2015-09-25|116.440002|116.690002|114.019997|114.709999| 56151900| 111.25271|109.1116704|113.1013332| 117.090996|Decreasing|Viber, a cross-pl...|\n",
            "|2015-09-28|113.849998|    114.57|112.440002|112.440002| 52109000| 109.05113|109.1374587|113.1231666|117.1088745|Decreasing|A lot of things h...|\n",
            "|2015-09-29|112.830002|113.510002|107.860001|109.059998| 73365400|105.772996|108.7833184|112.9754999|117.1676815|Decreasing|Toronto-based onl...|\n",
            "|2015-09-30|110.169998|111.540001|108.730003|110.300003| 66473000|106.975629|109.0444831|113.0356667|117.0268504|Increasing|Day three of the ...|\n",
            "|2015-10-01|    109.07|109.620003|107.309998|109.580002| 63929100|106.277328|108.5812026|112.9140003| 117.246798|Increasing|FOMO MomentsMarke...|\n",
            "|2015-10-02|108.010002|111.010002|107.550003|110.379997| 58019800|107.053212|108.3483737| 112.843167|117.3379602|Increasing|FOMO MomentsMarke...|\n",
            "|2015-10-05|109.879997|111.370003|    109.07|110.779999| 52064700|107.441158|108.5314398|112.8930004|117.2545609|Increasing|FOMO MomentsA pre...|\n",
            "|2015-10-06|110.629997|111.739998|109.769997|111.309998| 48196800|107.955183|108.4365671|112.8535003|117.2704335|Increasing|Fundstratâ€™s Tom...|\n",
            "|2015-10-07|111.739998|111.769997|109.410004|110.779999| 46765600|107.441158|108.3485136|112.8205004|117.2924872|Decreasing|When a cryptocurr...|\n",
            "|2015-10-08|110.190002|110.190002|108.209999|     109.5| 61979600|106.199737|107.9731432|112.6896671| 117.406191|Decreasing|Competition among...|\n",
            "|2015-10-09|       110|112.279999|109.489998|112.120003| 52766100|108.740775|107.8423978|112.5848337|117.3272697|Increasing|FOMO MomentsCurre...|\n",
            "|2015-10-12|112.730003|    112.75|111.440002|111.599998| 30467200|108.236443|107.8680865|112.3970004|116.9259144|Decreasing|FOMO MomentsSusta...|\n",
            "|2015-10-13|    110.82|112.449997|    110.68|111.790001| 33049300|108.420719|107.9236127|112.1918338|116.4600549|Increasing|The start of this...|\n",
            "|2015-10-14|111.290001|111.519997|109.559998|110.209999| 44462400|106.888337|107.9810483|111.9068336|115.8326188|Decreasing|Key HighlightsETH...|\n",
            "|2015-10-15|    110.93|112.099998|110.489998|111.860001| 37673500|108.488609|108.0344358|111.7455003|115.4565647|Increasing|FOMO MomentsCurre...|\n",
            "|2015-10-16|111.779999|       112|110.529999|111.040001| 39232600|107.693323|107.9887068|111.6446669|115.3006269|Decreasing|We have prepared ...|\n",
            "|2015-10-19|110.800003|    111.75|110.110001|111.730003| 29759200| 108.36253|108.0973483|111.4671668|114.8369853|Increasing|FOMO MomentsMarke...|\n",
            "|2015-10-20|111.339996|114.169998|    110.82|113.769997| 48778800|110.341039|108.1200469|111.4448334|  114.76962|Increasing|Key PointsBitcoin...|\n",
            "|2015-10-21|       114|115.580002|113.699997|113.760002| 41795200|110.331345|108.0929292|111.4565001|114.8200709|Decreasing|San Francisco bas...|\n",
            "|2015-10-22|114.330002|     115.5|114.099998|     115.5| 41654100|112.018901|107.9920835|111.4936666|114.9952498|Increasing|Key HighlightsRip...|\n",
            "|2015-10-23|116.699997|119.230003|116.330002|119.080002| 59366900|115.491004| 107.341724|111.6473335|115.9529429|Increasing|Venezuelaâ€™s eco...|\n",
            "|2015-10-26|118.080002|118.129997|114.919998|115.279999| 66333800| 111.80553|107.1068229|111.7953333|116.4838437|Decreasing|The U. K.â€™s onl...|\n",
            "|2015-10-27|115.400002|116.540001|113.989998|114.550003| 69884400|111.097536|107.2139281|   112.0395|116.8650718|Decreasing|Over the past few...|\n",
            "|2015-10-28|    116.93|119.300003|116.059998|119.269997| 85551400|115.675272|107.0023178|112.4404998|117.8786819|Increasing|FOMO MomentsThe b...|\n",
            "|2015-10-29|118.699997|120.690002|118.269997|120.529999| 51227300|116.897299|106.9330458|112.9901664| 119.047287|Increasing|Nothing can be be...|\n",
            "|2015-10-30|120.989998|121.220001|119.449997|     119.5| 49365300|115.898343|106.9261151|113.5106663|120.0952176|Decreasing|Coincheck have an...|\n",
            "|2015-11-02|120.800003|121.360001|119.610001|    121.18| 32203300|117.527709|106.9021448|114.0261663|121.1501879|Increasing|Today, April 25th...|\n",
            "|2015-11-03|120.790001|123.489998|120.699997|    122.57| 45519000|118.875815|  106.77492| 114.591833|122.4087461|Increasing|FOMO MomentsCurre...|\n",
            "|2015-11-04|123.129997|    123.82|121.620003|       122| 44886100|118.322995|106.8736711|115.1831664|123.4926617|Decreasing|Hard forks in the...|\n",
            "|2015-11-05|121.849998|122.690002|    120.18|120.919998| 39552700|117.777553|107.5297965|       NULL|124.0328696|Decreasing|Developers of EOS...|\n",
            "|2015-11-06|121.110001|121.809998|120.620003|121.059998| 33042300|117.913914|107.9749626|116.2746664|124.5743702|Decreasing|FOMO MomentsMidwe...|\n",
            "|2015-11-09|120.959999|121.809998|120.050003|    120.57| 33871400| 117.43665|108.4461115|116.7186664|124.9912213|Decreasing|Ethereum Classic,...|\n",
            "|2015-11-10|116.900002|    118.07|116.059998|116.769997| 59127900|113.735401|109.0474207|116.9849997|124.9225786|Decreasing|Cryptocurrency mi...|\n",
            "|2015-11-11|116.370003|117.419998|115.209999|116.110001| 45218000|113.092557|109.9149744|117.2758331|124.6366918|Decreasing|FOMO MomentsCrypt...|\n",
            "|2015-11-12|116.260002|    116.82|115.650002|115.720001| 32525600|112.712693| 110.608755|117.5048332|124.4009114|Decreasing|FOMO MomentsMarke...|\n",
            "|2015-11-13|115.199997|    115.57|112.269997|112.339996| 45812400|109.420527|111.0642124|117.6149997|124.1657871|Decreasing|Litecoin (LTC) de...|\n",
            "|2015-11-16|111.379997|114.239998|       111|    114.18| 38106700|111.212713|111.4959634|117.7121663|123.9283692|Increasing|Ever-the cryptocu...|\n",
            "|2015-11-17|114.919998|115.050003|    113.32|113.690002| 27616900|110.735449|111.7039561|117.7671665|123.8303768|Decreasing|The initial coin ...|\n",
            "|2015-11-18|115.760002|117.489998|     115.5|117.290001| 46674700|114.241891|112.0084461|117.8878331|123.7672201|Increasing|Key HighlightsETH...|\n",
            "|2015-11-19|117.639999|    119.75|116.760002|118.779999| 43295800|115.693167|112.3234732|118.0576665|123.7918598|Increasing|FOMO MomentsMarke...|\n",
            "|2015-11-20|119.199997|119.919998|118.849998|119.300003| 34287100|116.199658|112.3528426| 118.114833|123.8768235|Increasing|The dark web has ...|\n",
            "|2015-11-23|119.269997|119.730003|117.339996|    117.75| 32482500|114.689936|112.5348643|118.2229998|123.9111353|Decreasing|This year looks l...|\n",
            "|2015-11-24|117.330002|119.349998|117.120003|118.879997| 42803200|115.790567|112.8982869|118.3941664|123.8900458|Increasing|A lot of rumors a...|\n",
            "|2015-11-25|119.209999|119.230003|117.919998|118.029999| 21388300|114.962658|112.9081014|118.4033331|123.8985648|Decreasing|FOMO MomentsThe s...|\n",
            "|2015-11-27|118.290001|118.410004|117.599998|117.809998| 13046400|114.748374|112.8501052|118.3088331| 123.767561|Decreasing|More frustrating ...|\n",
            "|2015-11-30|117.989998|119.410004|    117.75|118.300003| 39180300|115.225646|112.8295552|118.2303333|123.6311113|Increasing|FOMO MomentsIt ap...|\n",
            "+----------+----------+----------+----------+----------+---------+----------+-----------+-----------+-----------+----------+--------------------+\n",
            "only showing top 200 rows\n",
            "\n",
            "+----------+----------+----------+--------+----------+--------------------+----+\n",
            "|      Date|      Open|     Close|  Volume| direction|           headlines|Year|\n",
            "+----------+----------+----------+--------+----------+--------------------+----+\n",
            "|2015-02-17|127.489998|127.830002|63152400|Increasing|A group of journa...|2015|\n",
            "|2015-02-18|127.629997|128.720001|44891700|Increasing|Playboy Enterpris...|2015|\n",
            "|2015-02-19|128.479996|128.449997|37362400|Decreasing|Hardware and soft...|2015|\n",
            "|2015-02-20|128.619995|     129.5|48948400|Increasing|GMO Internet, a l...|2015|\n",
            "|2015-02-23|130.020004|       133|70974100|Increasing|A Tokyo-based rea...|2015|\n",
            "+----------+----------+----------+--------+----------+--------------------+----+\n",
            "only showing top 5 rows\n",
            "\n"
          ]
        }
      ],
      "source": [
        "full_df.show(200)\n",
        "columns=[\"Date\",\"Open\",\"Close\",\"Volume\",\"direction\",\"headlines\"]\n",
        "df_temp=full_df.select(columns)\n",
        "df_temp=df_temp.withColumn('Year',year('Date'))\n",
        "df_temp.show(5)"
      ]
    },
    {
      "cell_type": "code",
      "execution_count": null,
      "id": "fa3730cd",
      "metadata": {
        "id": "fa3730cd",
        "outputId": "4c33d29e-5931-4358-d1b8-d8be906971fa"
      },
      "outputs": [
        {
          "name": "stdout",
          "output_type": "stream",
          "text": [
            "+----------+------------------------------------------------------------------------------------------------------------------------------------+\n",
            "|direction |collect_list(Year)                                                                                                                  |\n",
            "+----------+------------------------------------------------------------------------------------------------------------------------------------+\n",
            "|Increasing|[2015, 2015, 2015, 2015, 2015, 2015, 2015, 2016, 2016, 2016, 2016, 2016, 2016, 2016, 2016, 2016, 2016, 2016, 2016, 2016, 2016, 2016]|\n",
            "+----------+------------------------------------------------------------------------------------------------------------------------------------+\n",
            "only showing top 1 row\n",
            "\n"
          ]
        }
      ],
      "source": [
        "# Apply collect_list function to gather all occurrences\n",
        "df_temp.filter(df_temp['Headlines'].like('%Crypto%')).groupby('direction')\\\n",
        ".agg(collect_list(\"Year\")).show(1,False)\n"
      ]
    },
    {
      "cell_type": "markdown",
      "id": "33666ca2",
      "metadata": {
        "id": "33666ca2"
      },
      "source": [
        "# Sampling"
      ]
    },
    {
      "cell_type": "markdown",
      "id": "c4e73d3c",
      "metadata": {
        "id": "c4e73d3c"
      },
      "source": [
        "The first\n",
        "parameter True/False indicates whether you would like to do a sample with or without\n",
        "replacement. Here, we would like to do it without replacement, so we selected False.\n",
        "The second parameter is the fraction. It indicates the proportion of the population you\n",
        "would like to have in the sample. The third parameter is the seed, which guarantees you\n",
        "the same result when you run this snippet every single time."
      ]
    },
    {
      "cell_type": "code",
      "execution_count": null,
      "id": "aa56e30b",
      "metadata": {
        "id": "aa56e30b",
        "outputId": "992d668e-2bc2-412a-c8f4-2dc3f1b925f8"
      },
      "outputs": [
        {
          "data": {
            "text/plain": [
              "207"
            ]
          },
          "execution_count": 39,
          "metadata": {},
          "output_type": "execute_result"
        }
      ],
      "source": [
        "# Simple random sampling in PySpark with replacement\n",
        "df_sample = df.sample(False, 0.4, 11)\n",
        "df_sample.count()"
      ]
    },
    {
      "cell_type": "code",
      "execution_count": null,
      "id": "8836878e",
      "metadata": {
        "id": "8836878e",
        "outputId": "b0bb3acc-dc29-464f-df1a-fe57905a5ad6"
      },
      "outputs": [
        {
          "data": {
            "text/plain": [
              "162"
            ]
          },
          "execution_count": 40,
          "metadata": {},
          "output_type": "execute_result"
        }
      ],
      "source": [
        "# Stratified sampling in PySpark\n",
        "df = df_temp.withColumn('Year',year('Date'))\n",
        "df_strat = df.sampleBy(\"Year\", fractions={2015: 0.2, 2016: 0.4,\n",
        "2017: 0.4}, seed=11)\n",
        "df_strat.count()"
      ]
    },
    {
      "cell_type": "markdown",
      "id": "68bc6360",
      "metadata": {
        "id": "68bc6360"
      },
      "source": [
        "# Pandas Support"
      ]
    },
    {
      "cell_type": "code",
      "execution_count": null,
      "id": "8f58a552",
      "metadata": {
        "id": "8f58a552",
        "outputId": "5824e695-1a5b-4acf-b143-ff41cfaee736"
      },
      "outputs": [
        {
          "name": "stderr",
          "output_type": "stream",
          "text": [
            "\r",
            "[Stage 88:>                                                         (0 + 1) / 1]\r"
          ]
        },
        {
          "name": "stdout",
          "output_type": "stream",
          "text": [
            "+----------+----------+----------+--------+----------+--------------------+----+\n",
            "|      Date|      Open|     Close|  Volume| direction|           headlines|Year|\n",
            "+----------+----------+----------+--------+----------+--------------------+----+\n",
            "|2015-02-17|127.489998|127.830002|63152400|Increasing|A group of journa...|2015|\n",
            "|2015-02-18|127.629997|128.720001|44891700|Increasing|Playboy Enterpris...|2015|\n",
            "|2015-02-19|128.479996|128.449997|37362400|Decreasing|Hardware and soft...|2015|\n",
            "|2015-02-20|128.619995|     129.5|48948400|Increasing|GMO Internet, a l...|2015|\n",
            "|2015-02-23|130.020004|       133|70974100|Increasing|A Tokyo-based rea...|2015|\n",
            "+----------+----------+----------+--------+----------+--------------------+----+\n",
            "only showing top 5 rows\n",
            "\n"
          ]
        },
        {
          "name": "stderr",
          "output_type": "stream",
          "text": [
            "\r",
            "                                                                                \r"
          ]
        }
      ],
      "source": [
        "# Pandas to PySpark\n",
        "df_pandas=df.toPandas()\n",
        "# Pandas to PySpark\n",
        "df_py = spark.createDataFrame(df_pandas)\n",
        "df_py.show(5)"
      ]
    },
    {
      "cell_type": "code",
      "execution_count": null,
      "id": "2010c110",
      "metadata": {
        "id": "2010c110"
      },
      "outputs": [],
      "source": []
    }
  ],
  "metadata": {
    "kernelspec": {
      "display_name": "Python 3 (ipykernel)",
      "language": "python",
      "name": "python3"
    },
    "language_info": {
      "codemirror_mode": {
        "name": "ipython",
        "version": 3
      },
      "file_extension": ".py",
      "mimetype": "text/x-python",
      "name": "python",
      "nbconvert_exporter": "python",
      "pygments_lexer": "ipython3",
      "version": "3.11.4"
    },
    "colab": {
      "provenance": [],
      "include_colab_link": true
    }
  },
  "nbformat": 4,
  "nbformat_minor": 5
}